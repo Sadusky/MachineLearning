{
 "cells": [
  {
   "cell_type": "markdown",
   "metadata": {},
   "source": [
    "## 最值归一化实现"
   ]
  },
  {
   "cell_type": "code",
   "execution_count": 1,
   "metadata": {},
   "outputs": [],
   "source": [
    "import numpy as np\n",
    "# 创建100个随机数\n",
    "x = np.random.randint(0, 100, size=100)"
   ]
  },
  {
   "cell_type": "code",
   "execution_count": 2,
   "metadata": {},
   "outputs": [
    {
     "data": {
      "text/plain": [
       "array([31, 57, 34, 55, 43, 56, 88, 73, 81, 27, 52, 69, 85,  4, 91, 39, 85,\n",
       "       72,  2, 26,  4, 26, 18, 94, 91, 25, 34, 77, 64, 79, 64, 44, 62, 30,\n",
       "        6, 88, 95, 22, 50, 62, 90, 17, 71, 52, 58, 37, 14, 23, 55, 94, 64,\n",
       "       73, 31, 44, 10, 75, 39, 10, 18, 34, 46, 10, 53, 25, 52, 71, 93, 69,\n",
       "       84, 85,  6, 84, 61,  7,  6, 89, 12, 76, 54, 82, 85, 20,  0,  2,  2,\n",
       "       48, 57, 90,  2, 37,  4, 49, 50, 93, 83, 54, 73, 43, 71, 56])"
      ]
     },
     "execution_count": 2,
     "metadata": {},
     "output_type": "execute_result"
    }
   ],
   "source": [
    "x"
   ]
  },
  {
   "cell_type": "code",
   "execution_count": 3,
   "metadata": {
    "scrolled": true
   },
   "outputs": [
    {
     "data": {
      "text/plain": [
       "array([0.32631579, 0.6       , 0.35789474, 0.57894737, 0.45263158,\n",
       "       0.58947368, 0.92631579, 0.76842105, 0.85263158, 0.28421053,\n",
       "       0.54736842, 0.72631579, 0.89473684, 0.04210526, 0.95789474,\n",
       "       0.41052632, 0.89473684, 0.75789474, 0.02105263, 0.27368421,\n",
       "       0.04210526, 0.27368421, 0.18947368, 0.98947368, 0.95789474,\n",
       "       0.26315789, 0.35789474, 0.81052632, 0.67368421, 0.83157895,\n",
       "       0.67368421, 0.46315789, 0.65263158, 0.31578947, 0.06315789,\n",
       "       0.92631579, 1.        , 0.23157895, 0.52631579, 0.65263158,\n",
       "       0.94736842, 0.17894737, 0.74736842, 0.54736842, 0.61052632,\n",
       "       0.38947368, 0.14736842, 0.24210526, 0.57894737, 0.98947368,\n",
       "       0.67368421, 0.76842105, 0.32631579, 0.46315789, 0.10526316,\n",
       "       0.78947368, 0.41052632, 0.10526316, 0.18947368, 0.35789474,\n",
       "       0.48421053, 0.10526316, 0.55789474, 0.26315789, 0.54736842,\n",
       "       0.74736842, 0.97894737, 0.72631579, 0.88421053, 0.89473684,\n",
       "       0.06315789, 0.88421053, 0.64210526, 0.07368421, 0.06315789,\n",
       "       0.93684211, 0.12631579, 0.8       , 0.56842105, 0.86315789,\n",
       "       0.89473684, 0.21052632, 0.        , 0.02105263, 0.02105263,\n",
       "       0.50526316, 0.6       , 0.94736842, 0.02105263, 0.38947368,\n",
       "       0.04210526, 0.51578947, 0.52631579, 0.97894737, 0.87368421,\n",
       "       0.56842105, 0.76842105, 0.45263158, 0.74736842, 0.58947368])"
      ]
     },
     "execution_count": 3,
     "metadata": {},
     "output_type": "execute_result"
    }
   ],
   "source": [
    "# 最值归一化（向量）\n",
    "# 最值归一化公式，映射到0-1之间\n",
    "(x - np.min(x))/(np.max(x) - np.min(x))"
   ]
  },
  {
   "cell_type": "code",
   "execution_count": 4,
   "metadata": {},
   "outputs": [],
   "source": [
    "# 最值归一化（矩阵）\n",
    "# 0-100范围内的50*2的矩阵\n",
    "X  = np.random.randint(0, 100, (50, 2))"
   ]
  },
  {
   "cell_type": "code",
   "execution_count": 5,
   "metadata": {
    "scrolled": true
   },
   "outputs": [
    {
     "data": {
      "text/plain": [
       "array([[88., 94.],\n",
       "       [ 9., 98.],\n",
       "       [99., 22.],\n",
       "       [ 7., 49.],\n",
       "       [78., 13.],\n",
       "       [10., 12.],\n",
       "       [63.,  2.],\n",
       "       [88., 34.],\n",
       "       [67., 90.],\n",
       "       [58., 84.],\n",
       "       [21., 25.],\n",
       "       [95., 23.],\n",
       "       [65., 65.],\n",
       "       [80., 86.],\n",
       "       [69., 97.],\n",
       "       [35., 24.],\n",
       "       [75., 79.],\n",
       "       [53., 58.],\n",
       "       [15., 14.],\n",
       "       [83., 17.],\n",
       "       [42., 33.],\n",
       "       [66., 93.],\n",
       "       [62., 62.],\n",
       "       [94., 68.],\n",
       "       [70., 76.],\n",
       "       [90.,  7.],\n",
       "       [50., 73.],\n",
       "       [42., 28.],\n",
       "       [24., 77.],\n",
       "       [18., 78.],\n",
       "       [53., 55.],\n",
       "       [17., 60.],\n",
       "       [88., 89.],\n",
       "       [31.,  2.],\n",
       "       [56., 12.],\n",
       "       [28., 28.],\n",
       "       [49., 68.],\n",
       "       [52., 83.],\n",
       "       [13., 22.],\n",
       "       [80., 85.],\n",
       "       [25., 86.],\n",
       "       [97., 47.],\n",
       "       [76., 49.],\n",
       "       [20.,  9.],\n",
       "       [94., 18.],\n",
       "       [47., 14.],\n",
       "       [41., 21.],\n",
       "       [13., 21.],\n",
       "       [78., 13.],\n",
       "       [34., 80.]])"
      ]
     },
     "execution_count": 5,
     "metadata": {},
     "output_type": "execute_result"
    }
   ],
   "source": [
    "# 将矩阵改为浮点型\n",
    "X = np.array(X, dtype=float)\n",
    "X"
   ]
  },
  {
   "cell_type": "code",
   "execution_count": 6,
   "metadata": {},
   "outputs": [
    {
     "data": {
      "text/plain": [
       "array([0.88043478, 0.02173913, 1.        , 0.        , 0.77173913,\n",
       "       0.0326087 , 0.60869565, 0.88043478, 0.65217391, 0.55434783,\n",
       "       0.15217391, 0.95652174, 0.63043478, 0.79347826, 0.67391304,\n",
       "       0.30434783, 0.73913043, 0.5       , 0.08695652, 0.82608696,\n",
       "       0.38043478, 0.64130435, 0.59782609, 0.94565217, 0.68478261,\n",
       "       0.90217391, 0.4673913 , 0.38043478, 0.18478261, 0.11956522,\n",
       "       0.5       , 0.10869565, 0.88043478, 0.26086957, 0.5326087 ,\n",
       "       0.22826087, 0.45652174, 0.48913043, 0.06521739, 0.79347826,\n",
       "       0.19565217, 0.97826087, 0.75      , 0.14130435, 0.94565217,\n",
       "       0.43478261, 0.36956522, 0.06521739, 0.77173913, 0.29347826])"
      ]
     },
     "execution_count": 6,
     "metadata": {},
     "output_type": "execute_result"
    }
   ],
   "source": [
    "# 最值归一化公式，对于每一个维度（列方向）进行归一化\n",
    "# X[:,0]第一列，第一个特征\n",
    "X[:,0] = (X[:,0] - np.min(X[:,0])) / (np.max(X[:,0]) - np.min(X[:,0]))\n",
    "X[:,0]"
   ]
  },
  {
   "cell_type": "code",
   "execution_count": 7,
   "metadata": {},
   "outputs": [
    {
     "data": {
      "text/plain": [
       "array([0.95833333, 1.        , 0.20833333, 0.48958333, 0.11458333,\n",
       "       0.10416667, 0.        , 0.33333333, 0.91666667, 0.85416667,\n",
       "       0.23958333, 0.21875   , 0.65625   , 0.875     , 0.98958333,\n",
       "       0.22916667, 0.80208333, 0.58333333, 0.125     , 0.15625   ,\n",
       "       0.32291667, 0.94791667, 0.625     , 0.6875    , 0.77083333,\n",
       "       0.05208333, 0.73958333, 0.27083333, 0.78125   , 0.79166667,\n",
       "       0.55208333, 0.60416667, 0.90625   , 0.        , 0.10416667,\n",
       "       0.27083333, 0.6875    , 0.84375   , 0.20833333, 0.86458333,\n",
       "       0.875     , 0.46875   , 0.48958333, 0.07291667, 0.16666667,\n",
       "       0.125     , 0.19791667, 0.19791667, 0.11458333, 0.8125    ])"
      ]
     },
     "execution_count": 7,
     "metadata": {},
     "output_type": "execute_result"
    }
   ],
   "source": [
    "# X[:,1]第二列，第二个特征\n",
    "X[:,1] = (X[:,1] - np.min(X[:,1])) / (np.max(X[:,1]) - np.min(X[:,1]))\n",
    "X[:,1]"
   ]
  },
  {
   "cell_type": "code",
   "execution_count": 8,
   "metadata": {
    "scrolled": true
   },
   "outputs": [
    {
     "data": {
      "text/plain": [
       "array([[0.88043478, 0.95833333],\n",
       "       [0.02173913, 1.        ],\n",
       "       [1.        , 0.20833333],\n",
       "       [0.        , 0.48958333],\n",
       "       [0.77173913, 0.11458333],\n",
       "       [0.0326087 , 0.10416667],\n",
       "       [0.60869565, 0.        ],\n",
       "       [0.88043478, 0.33333333],\n",
       "       [0.65217391, 0.91666667],\n",
       "       [0.55434783, 0.85416667],\n",
       "       [0.15217391, 0.23958333],\n",
       "       [0.95652174, 0.21875   ],\n",
       "       [0.63043478, 0.65625   ],\n",
       "       [0.79347826, 0.875     ],\n",
       "       [0.67391304, 0.98958333],\n",
       "       [0.30434783, 0.22916667],\n",
       "       [0.73913043, 0.80208333],\n",
       "       [0.5       , 0.58333333],\n",
       "       [0.08695652, 0.125     ],\n",
       "       [0.82608696, 0.15625   ],\n",
       "       [0.38043478, 0.32291667],\n",
       "       [0.64130435, 0.94791667],\n",
       "       [0.59782609, 0.625     ],\n",
       "       [0.94565217, 0.6875    ],\n",
       "       [0.68478261, 0.77083333],\n",
       "       [0.90217391, 0.05208333],\n",
       "       [0.4673913 , 0.73958333],\n",
       "       [0.38043478, 0.27083333],\n",
       "       [0.18478261, 0.78125   ],\n",
       "       [0.11956522, 0.79166667],\n",
       "       [0.5       , 0.55208333],\n",
       "       [0.10869565, 0.60416667],\n",
       "       [0.88043478, 0.90625   ],\n",
       "       [0.26086957, 0.        ],\n",
       "       [0.5326087 , 0.10416667],\n",
       "       [0.22826087, 0.27083333],\n",
       "       [0.45652174, 0.6875    ],\n",
       "       [0.48913043, 0.84375   ],\n",
       "       [0.06521739, 0.20833333],\n",
       "       [0.79347826, 0.86458333],\n",
       "       [0.19565217, 0.875     ],\n",
       "       [0.97826087, 0.46875   ],\n",
       "       [0.75      , 0.48958333],\n",
       "       [0.14130435, 0.07291667],\n",
       "       [0.94565217, 0.16666667],\n",
       "       [0.43478261, 0.125     ],\n",
       "       [0.36956522, 0.19791667],\n",
       "       [0.06521739, 0.19791667],\n",
       "       [0.77173913, 0.11458333],\n",
       "       [0.29347826, 0.8125    ]])"
      ]
     },
     "execution_count": 8,
     "metadata": {},
     "output_type": "execute_result"
    }
   ],
   "source": [
    "X"
   ]
  },
  {
   "cell_type": "code",
   "execution_count": 9,
   "metadata": {},
   "outputs": [],
   "source": [
    "# 如果有n个特征，可以写个循环\n",
    "for i in range(0, 2):\n",
    "    X[:,i] = (X[:,i] - np.min(X[:,i])) / (np.max(X[:,i]) - np.min(X[:,i]))"
   ]
  },
  {
   "cell_type": "code",
   "execution_count": 10,
   "metadata": {
    "scrolled": true
   },
   "outputs": [
    {
     "data": {
      "text/plain": [
       "array([[0.88043478, 0.95833333],\n",
       "       [0.02173913, 1.        ],\n",
       "       [1.        , 0.20833333],\n",
       "       [0.        , 0.48958333],\n",
       "       [0.77173913, 0.11458333],\n",
       "       [0.0326087 , 0.10416667],\n",
       "       [0.60869565, 0.        ],\n",
       "       [0.88043478, 0.33333333],\n",
       "       [0.65217391, 0.91666667],\n",
       "       [0.55434783, 0.85416667],\n",
       "       [0.15217391, 0.23958333],\n",
       "       [0.95652174, 0.21875   ],\n",
       "       [0.63043478, 0.65625   ],\n",
       "       [0.79347826, 0.875     ],\n",
       "       [0.67391304, 0.98958333],\n",
       "       [0.30434783, 0.22916667],\n",
       "       [0.73913043, 0.80208333],\n",
       "       [0.5       , 0.58333333],\n",
       "       [0.08695652, 0.125     ],\n",
       "       [0.82608696, 0.15625   ],\n",
       "       [0.38043478, 0.32291667],\n",
       "       [0.64130435, 0.94791667],\n",
       "       [0.59782609, 0.625     ],\n",
       "       [0.94565217, 0.6875    ],\n",
       "       [0.68478261, 0.77083333],\n",
       "       [0.90217391, 0.05208333],\n",
       "       [0.4673913 , 0.73958333],\n",
       "       [0.38043478, 0.27083333],\n",
       "       [0.18478261, 0.78125   ],\n",
       "       [0.11956522, 0.79166667],\n",
       "       [0.5       , 0.55208333],\n",
       "       [0.10869565, 0.60416667],\n",
       "       [0.88043478, 0.90625   ],\n",
       "       [0.26086957, 0.        ],\n",
       "       [0.5326087 , 0.10416667],\n",
       "       [0.22826087, 0.27083333],\n",
       "       [0.45652174, 0.6875    ],\n",
       "       [0.48913043, 0.84375   ],\n",
       "       [0.06521739, 0.20833333],\n",
       "       [0.79347826, 0.86458333],\n",
       "       [0.19565217, 0.875     ],\n",
       "       [0.97826087, 0.46875   ],\n",
       "       [0.75      , 0.48958333],\n",
       "       [0.14130435, 0.07291667],\n",
       "       [0.94565217, 0.16666667],\n",
       "       [0.43478261, 0.125     ],\n",
       "       [0.36956522, 0.19791667],\n",
       "       [0.06521739, 0.19791667],\n",
       "       [0.77173913, 0.11458333],\n",
       "       [0.29347826, 0.8125    ]])"
      ]
     },
     "execution_count": 10,
     "metadata": {},
     "output_type": "execute_result"
    }
   ],
   "source": [
    "X"
   ]
  },
  {
   "cell_type": "code",
   "execution_count": 12,
   "metadata": {},
   "outputs": [
    {
     "data": {
      "image/png": "[encoded data removed]",
      "text/plain": [
       "<Figure size 432x288 with 1 Axes>"
      ]
     },
     "metadata": {
      "needs_background": "light"
     },
     "output_type": "display_data"
    }
   ],
   "source": [
    "%matplotlib inline\n",
    "import matplotlib.pyplot as plt\n",
    "# 简单绘制样本，看横纵坐标\n",
    "plt.scatter(X[:,0], X[:,1])\n",
    "plt.show()"
   ]
  },
  {
   "cell_type": "markdown",
   "metadata": {},
   "source": [
    "## 均值方差归一化实现"
   ]
  },
  {
   "cell_type": "code",
   "execution_count": 13,
   "metadata": {
    "scrolled": true
   },
   "outputs": [
    {
     "data": {
      "text/plain": [
       "array([[34., 75.],\n",
       "       [64., 88.],\n",
       "       [80., 85.],\n",
       "       [33., 16.],\n",
       "       [99.,  8.],\n",
       "       [89., 51.],\n",
       "       [45., 38.],\n",
       "       [13., 73.],\n",
       "       [72.,  1.],\n",
       "       [42., 71.],\n",
       "       [60., 14.],\n",
       "       [45., 41.],\n",
       "       [93., 71.],\n",
       "       [38., 80.],\n",
       "       [12., 28.],\n",
       "       [59., 69.],\n",
       "       [86., 43.],\n",
       "       [79., 22.],\n",
       "       [61., 68.],\n",
       "       [62., 53.],\n",
       "       [84., 13.],\n",
       "       [70., 78.],\n",
       "       [ 3., 62.],\n",
       "       [22., 54.],\n",
       "       [ 3.,  4.],\n",
       "       [ 5., 54.],\n",
       "       [17.,  0.],\n",
       "       [86., 92.],\n",
       "       [72.,  8.],\n",
       "       [17., 90.],\n",
       "       [80., 28.],\n",
       "       [ 6., 89.],\n",
       "       [38.,  1.],\n",
       "       [24., 76.],\n",
       "       [65., 91.],\n",
       "       [ 3., 71.],\n",
       "       [57.,  8.],\n",
       "       [ 9., 75.],\n",
       "       [79., 49.],\n",
       "       [84., 81.],\n",
       "       [26., 66.],\n",
       "       [20., 66.],\n",
       "       [80., 72.],\n",
       "       [95., 60.],\n",
       "       [11., 97.],\n",
       "       [81., 19.],\n",
       "       [73., 57.],\n",
       "       [45., 11.],\n",
       "       [90., 33.],\n",
       "       [ 3., 54.]])"
      ]
     },
     "execution_count": 13,
     "metadata": {},
     "output_type": "execute_result"
    }
   ],
   "source": [
    "X2 = np.array(np.random.randint(0, 100, (50, 2)), dtype=float)\n",
    "X2"
   ]
  },
  {
   "cell_type": "code",
   "execution_count": 14,
   "metadata": {},
   "outputs": [],
   "source": [
    "# 套用公式，对每一列做均值方差归一化\n",
    "for i in range(0, 2):\n",
    "    X2[:,i] = (X2[:,i] - np.mean(X2[:,i])) / np.std(X2[:,i])"
   ]
  },
  {
   "cell_type": "code",
   "execution_count": 15,
   "metadata": {
    "scrolled": true
   },
   "outputs": [
    {
     "data": {
      "text/plain": [
       "array([[-0.52902847,  0.81406065],\n",
       "       [ 0.44583972,  1.25648492],\n",
       "       [ 0.96576942,  1.15438701],\n",
       "       [-0.56152408, -1.19386487],\n",
       "       [ 1.58318594, -1.46612595],\n",
       "       [ 1.25822987, -0.00272261],\n",
       "       [-0.1715768 , -0.44514688],\n",
       "       [-1.2114362 ,  0.74599538],\n",
       "       [ 0.70580457, -1.70435441],\n",
       "       [-0.26906362,  0.67793011],\n",
       "       [ 0.31585729, -1.26193014],\n",
       "       [-0.1715768 , -0.34304897],\n",
       "       [ 1.3882123 ,  0.67793011],\n",
       "       [-0.39904604,  0.98422383],\n",
       "       [-1.24393181, -0.78547324],\n",
       "       [ 0.28336169,  0.60986484],\n",
       "       [ 1.16074305, -0.2749837 ],\n",
       "       [ 0.93327381, -0.98966905],\n",
       "       [ 0.3483529 ,  0.5758322 ],\n",
       "       [ 0.38084851,  0.06534266],\n",
       "       [ 1.09575184, -1.29596278],\n",
       "       [ 0.64081336,  0.91615856],\n",
       "       [-1.53639226,  0.37163638],\n",
       "       [-0.91897574,  0.0993753 ],\n",
       "       [-1.53639226, -1.6022565 ],\n",
       "       [-1.47140105,  0.0993753 ],\n",
       "       [-1.08145378, -1.73838704],\n",
       "       [ 1.16074305,  1.39261546],\n",
       "       [ 0.70580457, -1.46612595],\n",
       "       [-1.08145378,  1.32455019],\n",
       "       [ 0.96576942, -0.78547324],\n",
       "       [-1.43890544,  1.29051755],\n",
       "       [-0.39904604, -1.70435441],\n",
       "       [-0.85398453,  0.84809329],\n",
       "       [ 0.47833532,  1.35858283],\n",
       "       [-1.53639226,  0.67793011],\n",
       "       [ 0.21837047, -1.46612595],\n",
       "       [-1.34141863,  0.81406065],\n",
       "       [ 0.93327381, -0.07078788],\n",
       "       [ 1.09575184,  1.01825647],\n",
       "       [-0.78899332,  0.50776693],\n",
       "       [-0.98396696,  0.50776693],\n",
       "       [ 0.96576942,  0.71196274],\n",
       "       [ 1.45320351,  0.30357111],\n",
       "       [-1.27642741,  1.56277864],\n",
       "       [ 0.99826502, -1.09176696],\n",
       "       [ 0.73830017,  0.2014732 ],\n",
       "       [-0.1715768 , -1.36402805],\n",
       "       [ 1.29072548, -0.61531006],\n",
       "       [-1.53639226,  0.0993753 ]])"
      ]
     },
     "execution_count": 15,
     "metadata": {},
     "output_type": "execute_result"
    }
   ],
   "source": [
    "X2"
   ]
  },
  {
   "cell_type": "code",
   "execution_count": 16,
   "metadata": {},
   "outputs": [
    {
     "data": {
      "image/png": "[encoded data removed]",
      "text/plain": [
       "<Figure size 432x288 with 1 Axes>"
      ]
     },
     "metadata": {
      "needs_background": "light"
     },
     "output_type": "display_data"
    }
   ],
   "source": [
    "plt.scatter(X2[:,0], X2[:,1])\n",
    "plt.show()"
   ]
  },
  {
   "cell_type": "code",
   "execution_count": 17,
   "metadata": {},
   "outputs": [
    {
     "data": {
      "text/plain": [
       "3.552713678800501e-17"
      ]
     },
     "execution_count": 17,
     "metadata": {},
     "output_type": "execute_result"
    }
   ],
   "source": [
    "# 均值/方差\n",
    "np.mean(X2[:,1])"
   ]
  },
  {
   "cell_type": "code",
   "execution_count": 18,
   "metadata": {},
   "outputs": [
    {
     "data": {
      "text/plain": [
       "0.9999999999999999"
      ]
     },
     "execution_count": 18,
     "metadata": {},
     "output_type": "execute_result"
    }
   ],
   "source": [
    "np.std(X2[:,1])"
   ]
  },
  {
   "cell_type": "markdown",
   "metadata": {},
   "source": [
    "## Sklearn中的归一化"
   ]
  },
  {
   "cell_type": "code",
   "execution_count": 19,
   "metadata": {},
   "outputs": [],
   "source": [
    "import numpy as np\n",
    "from sklearn import datasets\n",
    "from sklearn.model_selection import train_test_split\n",
    "\n",
    "iris = datasets.load_iris()\n",
    "X = iris.data\n",
    "y = iris.target\n",
    "# X_train, X_test, y_train, y_test = train_test_split(iris.data, iris.target, test_size=0.2, random_state=666)\n",
    "X_train, X_test, y_train, y_test = train_test_split(X, y, test_size=0.2, random_state=666)"
   ]
  },
  {
   "cell_type": "code",
   "execution_count": 20,
   "metadata": {},
   "outputs": [],
   "source": [
    "# 数据归一化\n",
    "from sklearn.preprocessing import StandardScaler\n",
    "standardScaler = StandardScaler()\n",
    "# 归一化的过程跟训练模型一样\n",
    "standardScaler.fit(X_train)\n",
    "standardScaler.mean_\n",
    "standardScaler.scale_  # 表述数据分布范围的变量，替代std_\n",
    "\n",
    "# 使用transform\n",
    "X_train_standard = standardScaler.transform(X_train)\n",
    "X_test_standard = standardScaler.transform(X_test)"
   ]
  },
  {
   "cell_type": "code",
   "execution_count": 33,
   "metadata": {},
   "outputs": [
    {
     "data": {
      "text/plain": [
       "array([[-0.90616043,  0.93246262, -1.30856471, -1.28788802],\n",
       "       [-1.15301457, -0.19551636, -1.30856471, -1.28788802],\n",
       "       [-0.16559799, -0.64670795,  0.22203084,  0.17260355],\n",
       "       [ 0.45153738,  0.70686683,  0.95898425,  1.50032315],\n",
       "       [-0.90616043, -1.32349533, -0.40154513, -0.09294037],\n",
       "       [ 1.43895396,  0.25567524,  0.56216318,  0.30537551],\n",
       "       [ 0.3281103 , -1.09789954,  1.0723617 ,  0.30537551],\n",
       "       [ 2.1795164 , -0.19551636,  1.63924894,  1.23477923],\n",
       "       [-0.78273335,  2.2860374 , -1.25187599, -1.42065998],\n",
       "       [ 0.45153738, -2.00028272,  0.44878573,  0.43814747],\n",
       "       [ 1.80923518, -0.42111215,  1.46918276,  0.83646335],\n",
       "       [ 0.69839152,  0.25567524,  0.90229552,  1.50032315],\n",
       "       [ 0.20468323,  0.70686683,  0.44878573,  0.57091943],\n",
       "       [-0.78273335, -0.87230374,  0.10865339,  0.30537551],\n",
       "       [-0.53587921,  1.38365421, -1.25187599, -1.28788802],\n",
       "       [-0.65930628,  1.38365421, -1.25187599, -1.28788802],\n",
       "       [-1.0295875 ,  0.93246262, -1.19518726, -0.75680017],\n",
       "       [-1.77014994, -0.42111215, -1.30856471, -1.28788802],\n",
       "       [-0.04217092, -0.87230374,  0.10865339,  0.03983159],\n",
       "       [-0.78273335,  0.70686683, -1.30856471, -1.28788802],\n",
       "       [-1.52329579,  0.70686683, -1.30856471, -1.15511606],\n",
       "       [ 0.82181859,  0.25567524,  0.78891808,  1.10200727],\n",
       "       [-0.16559799, -0.42111215,  0.27871956,  0.17260355],\n",
       "       [ 0.94524567, -0.19551636,  0.39209701,  0.30537551],\n",
       "       [ 0.20468323, -0.42111215,  0.44878573,  0.43814747],\n",
       "       [-1.39986872,  0.25567524, -1.19518726, -1.28788802],\n",
       "       [-1.15301457,  1.15805842, -1.30856471, -1.42065998],\n",
       "       [ 1.06867274,  0.03007944,  1.0723617 ,  1.63309511],\n",
       "       [ 0.57496445, -0.87230374,  0.67554063,  0.83646335],\n",
       "       [ 0.3281103 , -0.64670795,  0.56216318,  0.03983159],\n",
       "       [ 0.45153738, -0.64670795,  0.6188519 ,  0.83646335],\n",
       "       [-0.16559799,  2.96282478, -1.25187599, -1.0223441 ],\n",
       "       [ 0.57496445, -1.32349533,  0.67554063,  0.43814747],\n",
       "       [ 0.69839152, -0.42111215,  0.33540828,  0.17260355],\n",
       "       [-0.90616043,  1.60925001, -1.02512109, -1.0223441 ],\n",
       "       [ 1.19209981, -0.64670795,  0.6188519 ,  0.30537551],\n",
       "       [-0.90616043,  0.93246262, -1.30856471, -1.15511606],\n",
       "       [-1.89357701, -0.19551636, -1.47863088, -1.42065998],\n",
       "       [ 0.08125616, -0.19551636,  0.78891808,  0.83646335],\n",
       "       [ 0.69839152, -0.64670795,  1.0723617 ,  1.23477923],\n",
       "       [-0.28902506, -0.64670795,  0.67554063,  1.10200727],\n",
       "       [-0.41245214, -1.54909113, -0.00472406, -0.22571233],\n",
       "       [ 1.31552689,  0.03007944,  0.67554063,  0.43814747],\n",
       "       [ 0.57496445,  0.70686683,  1.0723617 ,  1.63309511],\n",
       "       [ 0.82181859, -0.19551636,  1.18573914,  1.36755119],\n",
       "       [-0.16559799,  1.60925001, -1.13849854, -1.15511606],\n",
       "       [ 0.94524567, -0.42111215,  0.50547446,  0.17260355],\n",
       "       [ 1.06867274,  0.48127103,  1.12905042,  1.76586707],\n",
       "       [-1.27644165, -0.19551636, -1.30856471, -1.42065998],\n",
       "       [-1.0295875 ,  1.15805842, -1.30856471, -1.28788802],\n",
       "       [ 0.20468323, -0.19551636,  0.6188519 ,  0.83646335],\n",
       "       [-1.0295875 , -0.19551636, -1.19518726, -1.28788802],\n",
       "       [ 0.3281103 , -0.19551636,  0.67554063,  0.83646335],\n",
       "       [ 0.69839152,  0.03007944,  1.01567297,  0.83646335],\n",
       "       [-0.90616043,  1.38365421, -1.25187599, -1.0223441 ],\n",
       "       [-0.16559799, -0.19551636,  0.27871956,  0.03983159],\n",
       "       [-1.0295875 ,  0.93246262, -1.36525344, -1.15511606],\n",
       "       [-0.90616043,  1.60925001, -1.25187599, -1.15511606],\n",
       "       [-1.52329579,  0.25567524, -1.30856471, -1.28788802],\n",
       "       [-0.53587921, -0.19551636,  0.44878573,  0.43814747],\n",
       "       [ 0.82181859, -0.64670795,  0.50547446,  0.43814747],\n",
       "       [ 0.3281103 , -0.64670795,  0.16534211,  0.17260355],\n",
       "       [-1.27644165,  0.70686683, -1.19518726, -1.28788802],\n",
       "       [-0.90616043,  0.48127103, -1.13849854, -0.88957213],\n",
       "       [-0.04217092, -0.87230374,  0.78891808,  0.96923531],\n",
       "       [-0.28902506, -0.19551636,  0.22203084,  0.17260355],\n",
       "       [ 0.57496445, -0.64670795,  0.78891808,  0.43814747],\n",
       "       [ 1.06867274,  0.48127103,  1.12905042,  1.23477923],\n",
       "       [ 1.68580811, -0.19551636,  1.18573914,  0.57091943],\n",
       "       [ 1.06867274, -0.19551636,  0.8456068 ,  1.50032315],\n",
       "       [-1.15301457,  0.03007944, -1.25187599, -1.42065998],\n",
       "       [-1.15301457, -1.32349533,  0.44878573,  0.70369139],\n",
       "       [-0.16559799, -1.32349533,  0.73222935,  1.10200727],\n",
       "       [-1.15301457, -1.54909113, -0.23147896, -0.22571233],\n",
       "       [-0.41245214, -1.54909113,  0.05196466, -0.09294037],\n",
       "       [ 1.06867274, -1.32349533,  1.18573914,  0.83646335],\n",
       "       [ 0.82181859, -0.19551636,  1.01567297,  0.83646335],\n",
       "       [-0.16559799, -1.09789954, -0.11810151, -0.22571233],\n",
       "       [ 0.20468323, -2.00028272,  0.73222935,  0.43814747],\n",
       "       [ 1.06867274,  0.03007944,  0.56216318,  0.43814747],\n",
       "       [-1.15301457,  0.03007944, -1.25187599, -1.28788802],\n",
       "       [ 0.57496445, -1.32349533,  0.73222935,  0.96923531],\n",
       "       [-1.39986872,  0.25567524, -1.36525344, -1.28788802],\n",
       "       [ 0.20468323, -0.87230374,  0.78891808,  0.57091943],\n",
       "       [-0.04217092, -1.09789954,  0.16534211,  0.03983159],\n",
       "       [ 1.31552689,  0.25567524,  1.12905042,  1.50032315],\n",
       "       [-1.77014994, -0.19551636, -1.36525344, -1.28788802],\n",
       "       [ 1.56238103, -0.19551636,  1.24242787,  1.23477923],\n",
       "       [ 1.19209981,  0.25567524,  1.24242787,  1.50032315],\n",
       "       [-0.78273335,  0.93246262, -1.25187599, -1.28788802],\n",
       "       [ 2.54979762,  1.60925001,  1.52587149,  1.10200727],\n",
       "       [ 0.69839152, -0.64670795,  1.0723617 ,  1.36755119],\n",
       "       [-0.28902506, -0.42111215, -0.06141278,  0.17260355],\n",
       "       [-0.41245214,  2.51163319, -1.30856471, -1.28788802],\n",
       "       [-1.27644165, -0.19551636, -1.30856471, -1.15511606],\n",
       "       [ 0.57496445, -0.42111215,  1.0723617 ,  0.83646335],\n",
       "       [-1.77014994,  0.25567524, -1.36525344, -1.28788802],\n",
       "       [-0.53587921,  1.8348458 , -1.13849854, -1.0223441 ],\n",
       "       [-1.0295875 ,  0.70686683, -1.19518726, -1.0223441 ],\n",
       "       [ 1.06867274, -0.19551636,  0.73222935,  0.70369139],\n",
       "       [-0.53587921,  1.8348458 , -1.36525344, -1.0223441 ],\n",
       "       [ 2.30294347, -0.64670795,  1.69593766,  1.10200727],\n",
       "       [-0.28902506, -0.87230374,  0.27871956,  0.17260355],\n",
       "       [ 1.19209981, -0.19551636,  1.01567297,  1.23477923],\n",
       "       [-0.41245214,  0.93246262, -1.36525344, -1.28788802],\n",
       "       [-1.27644165,  0.70686683, -1.02512109, -1.28788802],\n",
       "       [-0.53587921,  0.70686683, -1.13849854, -1.28788802],\n",
       "       [ 2.30294347,  1.60925001,  1.69593766,  1.36755119],\n",
       "       [ 1.31552689,  0.03007944,  0.95898425,  1.23477923],\n",
       "       [-0.28902506, -1.32349533,  0.10865339, -0.09294037],\n",
       "       [-0.90616043,  0.70686683, -1.25187599, -1.28788802],\n",
       "       [-0.90616043,  1.60925001, -1.19518726, -1.28788802],\n",
       "       [ 0.3281103 , -0.42111215,  0.56216318,  0.30537551],\n",
       "       [-0.04217092,  2.0604416 , -1.42194216, -1.28788802],\n",
       "       [-1.0295875 , -2.45147431, -0.11810151, -0.22571233],\n",
       "       [ 0.69839152,  0.25567524,  0.44878573,  0.43814747],\n",
       "       [ 0.3281103 , -0.19551636,  0.50547446,  0.30537551],\n",
       "       [ 0.08125616,  0.25567524,  0.6188519 ,  0.83646335],\n",
       "       [ 0.20468323, -2.00028272,  0.16534211, -0.22571233],\n",
       "       [ 1.93266225, -0.64670795,  1.35580532,  0.96923531]])"
      ]
     },
     "execution_count": 33,
     "metadata": {},
     "output_type": "execute_result"
    }
   ],
   "source": [
    "X_train_standard"
   ]
  },
  {
   "cell_type": "code",
   "execution_count": 34,
   "metadata": {},
   "outputs": [
    {
     "data": {
      "text/plain": [
       "array([[-0.28902506, -0.19551636,  0.44878573,  0.43814747],\n",
       "       [-0.04217092, -0.64670795,  0.78891808,  1.63309511],\n",
       "       [-1.0295875 , -1.77468693, -0.23147896, -0.22571233],\n",
       "       [-0.04217092, -0.87230374,  0.78891808,  0.96923531],\n",
       "       [-1.52329579,  0.03007944, -1.25187599, -1.28788802],\n",
       "       [-0.41245214, -1.32349533,  0.16534211,  0.17260355],\n",
       "       [-0.16559799, -0.64670795,  0.44878573,  0.17260355],\n",
       "       [ 0.82181859, -0.19551636,  0.8456068 ,  1.10200727],\n",
       "       [ 0.57496445, -1.77468693,  0.39209701,  0.17260355],\n",
       "       [-0.41245214, -1.09789954,  0.39209701,  0.03983159],\n",
       "       [ 1.06867274,  0.03007944,  0.39209701,  0.30537551],\n",
       "       [-1.64672287, -1.77468693, -1.36525344, -1.15511606],\n",
       "       [-1.27644165,  0.03007944, -1.19518726, -1.28788802],\n",
       "       [-0.53587921,  0.70686683, -1.25187599, -1.0223441 ],\n",
       "       [ 1.68580811,  1.15805842,  1.35580532,  1.76586707],\n",
       "       [-0.04217092, -0.87230374,  0.22203084, -0.22571233],\n",
       "       [-1.52329579,  1.15805842, -1.53531961, -1.28788802],\n",
       "       [ 1.68580811,  0.25567524,  1.29911659,  0.83646335],\n",
       "       [ 1.31552689,  0.03007944,  0.78891808,  1.50032315],\n",
       "       [ 0.69839152, -0.87230374,  0.90229552,  0.96923531],\n",
       "       [ 0.57496445,  0.48127103,  0.56216318,  0.57091943],\n",
       "       [-1.0295875 ,  0.70686683, -1.25187599, -1.28788802],\n",
       "       [ 2.30294347, -1.09789954,  1.80931511,  1.50032315],\n",
       "       [-1.0295875 ,  0.48127103, -1.30856471, -1.28788802],\n",
       "       [ 0.45153738, -0.42111215,  0.33540828,  0.17260355],\n",
       "       [ 0.08125616, -0.19551636,  0.27871956,  0.43814747],\n",
       "       [-1.0295875 ,  0.25567524, -1.42194216, -1.28788802],\n",
       "       [-0.41245214, -1.77468693,  0.16534211,  0.17260355],\n",
       "       [ 0.57496445,  0.48127103,  1.29911659,  1.76586707],\n",
       "       [ 2.30294347, -0.19551636,  1.35580532,  1.50032315]])"
      ]
     },
     "execution_count": 34,
     "metadata": {},
     "output_type": "execute_result"
    }
   ],
   "source": [
    "X_test_standard"
   ]
  },
  {
   "cell_type": "markdown",
   "metadata": {},
   "source": [
    "## KD树\n",
    "- 对所有的实例点进行快速k近邻搜索"
   ]
  },
  {
   "cell_type": "code",
   "execution_count": 35,
   "metadata": {},
   "outputs": [],
   "source": [
    "# points为实例点集合，depth深度，为用来确定取维度的参数\n",
    "def kd_tree(points, depth):    \n",
    "    if 0 == len(points):\n",
    "        return None\n",
    "    # 指定切分维度，len(points[0])是数据的实际维度，这样计算可以保证循环\n",
    "    cutting_dim = depth % len(points[0])\n",
    "    # 切分点初始化\n",
    "    medium_index = len(points)\n",
    "    # 对所有的实例点按照指定维度进行排序，itemgetter用于获取对象哪些维度上的数据，参数为需要获取的数据在对象中的序号\n",
    "    points.sort(key=itemgetter(cutting_dim))  \n",
    "    # 将该维度的中值点作为根节点\n",
    "    node = Node(points[medium_index]) \n",
    "    # 对于左子树，重复构建（depth+1）\n",
    "    node.left = kd_tree(points[:medium_index], depth + 1)    \n",
    "    # 对于右子树，重复构建（depth+1）\n",
    "    node.right = kd_tree(points[medium_index + 1:], depth + 1) "
   ]
  },
  {
   "cell_type": "markdown",
   "metadata": {},
   "source": [
    "## sklearn中的KDTree"
   ]
  },
  {
   "cell_type": "code",
   "execution_count": 36,
   "metadata": {},
   "outputs": [
    {
     "name": "stdout",
     "output_type": "stream",
     "text": [
      "[[0.         0.06703304 0.10907128]] [[ 0 68 11]]\n"
     ]
    }
   ],
   "source": [
    "import numpy as np\n",
    "from matplotlib import pyplot as plt\n",
    "from matplotlib.patches import Circle\n",
    "from sklearn.neighbors import KDTree\n",
    "np.random.seed(0)\n",
    "points = np.random.random((100, 2))\n",
    "tree = KDTree(points)\n",
    "point = points[0]\n",
    "# kNN\n",
    "dists, indices = tree.query([point], k=3)\n",
    "print(dists, indices)"
   ]
  },
  {
   "cell_type": "code",
   "execution_count": 37,
   "metadata": {},
   "outputs": [
    {
     "name": "stdout",
     "output_type": "stream",
     "text": [
      "[array([62,  1, 67, 68,  2, 53, 16, 18, 93, 22, 55,  0, 11], dtype=int64)]\n"
     ]
    }
   ],
   "source": [
    "# query radius\n",
    "indices = tree.query_radius([point], r = 0.2)\n",
    "print(indices)"
   ]
  },
  {
   "cell_type": "code",
   "execution_count": 38,
   "metadata": {},
   "outputs": [
    {
     "data": {
      "image/png": "[encoded data removed]",
      "text/plain": [
       "<Figure size 432x288 with 1 Axes>"
      ]
     },
     "metadata": {
      "needs_background": "light"
     },
     "output_type": "display_data"
    }
   ],
   "source": [
    "fig = plt.figure()\n",
    "ax = fig.add_subplot(111, aspect='equal')\n",
    "ax.add_patch(Circle(point, 0.2, color='r', fill=False))\n",
    "X, Y = [p[0] for p in points], [p[1] for p in points]\n",
    "plt.scatter(X, Y)\n",
    "plt.scatter([point[0]], [point[1]], c='r')\n",
    "plt.show()"
   ]
  },
  {
   "cell_type": "code",
   "execution_count": 39,
   "metadata": {},
   "outputs": [
    {
     "data": {
      "text/plain": [
       "array([[5.1, 3.5, 1.4, 0.2],\n",
       "       [4.9, 3. , 1.4, 0.2],\n",
       "       [5.7, 2.8, 4.1, 1.3],\n",
       "       [6.2, 3.4, 5.4, 2.3],\n",
       "       [5.1, 2.5, 3. , 1.1],\n",
       "       [7. , 3.2, 4.7, 1.4],\n",
       "       [6.1, 2.6, 5.6, 1.4],\n",
       "       [7.6, 3. , 6.6, 2.1],\n",
       "       [5.2, 4.1, 1.5, 0.1],\n",
       "       [6.2, 2.2, 4.5, 1.5],\n",
       "       [7.3, 2.9, 6.3, 1.8],\n",
       "       [6.4, 3.2, 5.3, 2.3],\n",
       "       [6. , 3.4, 4.5, 1.6],\n",
       "       [5.2, 2.7, 3.9, 1.4],\n",
       "       [5.4, 3.7, 1.5, 0.2],\n",
       "       [5.3, 3.7, 1.5, 0.2],\n",
       "       [5. , 3.5, 1.6, 0.6],\n",
       "       [4.4, 2.9, 1.4, 0.2],\n",
       "       [5.8, 2.7, 3.9, 1.2],\n",
       "       [5.2, 3.4, 1.4, 0.2],\n",
       "       [4.6, 3.4, 1.4, 0.3],\n",
       "       [6.5, 3.2, 5.1, 2. ],\n",
       "       [5.7, 2.9, 4.2, 1.3],\n",
       "       [6.6, 3. , 4.4, 1.4],\n",
       "       [6. , 2.9, 4.5, 1.5],\n",
       "       [4.7, 3.2, 1.6, 0.2],\n",
       "       [4.9, 3.6, 1.4, 0.1],\n",
       "       [6.7, 3.1, 5.6, 2.4],\n",
       "       [6.3, 2.7, 4.9, 1.8],\n",
       "       [6.1, 2.8, 4.7, 1.2],\n",
       "       [6.2, 2.8, 4.8, 1.8],\n",
       "       [5.7, 4.4, 1.5, 0.4],\n",
       "       [6.3, 2.5, 4.9, 1.5],\n",
       "       [6.4, 2.9, 4.3, 1.3],\n",
       "       [5.1, 3.8, 1.9, 0.4],\n",
       "       [6.8, 2.8, 4.8, 1.4],\n",
       "       [5.1, 3.5, 1.4, 0.3],\n",
       "       [4.3, 3. , 1.1, 0.1],\n",
       "       [5.9, 3. , 5.1, 1.8],\n",
       "       [6.4, 2.8, 5.6, 2.1],\n",
       "       [5.6, 2.8, 4.9, 2. ],\n",
       "       [5.5, 2.4, 3.7, 1. ],\n",
       "       [6.9, 3.1, 4.9, 1.5],\n",
       "       [6.3, 3.4, 5.6, 2.4],\n",
       "       [6.5, 3. , 5.8, 2.2],\n",
       "       [5.7, 3.8, 1.7, 0.3],\n",
       "       [6.6, 2.9, 4.6, 1.3],\n",
       "       [6.7, 3.3, 5.7, 2.5],\n",
       "       [4.8, 3. , 1.4, 0.1],\n",
       "       [5. , 3.6, 1.4, 0.2],\n",
       "       [6. , 3. , 4.8, 1.8],\n",
       "       [5. , 3. , 1.6, 0.2],\n",
       "       [6.1, 3. , 4.9, 1.8],\n",
       "       [6.4, 3.1, 5.5, 1.8],\n",
       "       [5.1, 3.7, 1.5, 0.4],\n",
       "       [5.7, 3. , 4.2, 1.2],\n",
       "       [5. , 3.5, 1.3, 0.3],\n",
       "       [5.1, 3.8, 1.5, 0.3],\n",
       "       [4.6, 3.2, 1.4, 0.2],\n",
       "       [5.4, 3. , 4.5, 1.5],\n",
       "       [6.5, 2.8, 4.6, 1.5],\n",
       "       [6.1, 2.8, 4. , 1.3],\n",
       "       [4.8, 3.4, 1.6, 0.2],\n",
       "       [5.1, 3.3, 1.7, 0.5],\n",
       "       [5.8, 2.7, 5.1, 1.9],\n",
       "       [5.6, 3. , 4.1, 1.3],\n",
       "       [6.3, 2.8, 5.1, 1.5],\n",
       "       [6.7, 3.3, 5.7, 2.1],\n",
       "       [7.2, 3. , 5.8, 1.6],\n",
       "       [6.7, 3. , 5.2, 2.3],\n",
       "       [4.9, 3.1, 1.5, 0.1],\n",
       "       [4.9, 2.5, 4.5, 1.7],\n",
       "       [5.7, 2.5, 5. , 2. ],\n",
       "       [4.9, 2.4, 3.3, 1. ],\n",
       "       [5.5, 2.4, 3.8, 1.1],\n",
       "       [6.7, 2.5, 5.8, 1.8],\n",
       "       [6.5, 3. , 5.5, 1.8],\n",
       "       [5.7, 2.6, 3.5, 1. ],\n",
       "       [6. , 2.2, 5. , 1.5],\n",
       "       [6.7, 3.1, 4.7, 1.5],\n",
       "       [4.9, 3.1, 1.5, 0.2],\n",
       "       [6.3, 2.5, 5. , 1.9],\n",
       "       [4.7, 3.2, 1.3, 0.2],\n",
       "       [6. , 2.7, 5.1, 1.6],\n",
       "       [5.8, 2.6, 4. , 1.2],\n",
       "       [6.9, 3.2, 5.7, 2.3],\n",
       "       [4.4, 3. , 1.3, 0.2],\n",
       "       [7.1, 3. , 5.9, 2.1],\n",
       "       [6.8, 3.2, 5.9, 2.3],\n",
       "       [5.2, 3.5, 1.5, 0.2],\n",
       "       [7.9, 3.8, 6.4, 2. ],\n",
       "       [6.4, 2.8, 5.6, 2.2],\n",
       "       [5.6, 2.9, 3.6, 1.3],\n",
       "       [5.5, 4.2, 1.4, 0.2],\n",
       "       [4.8, 3. , 1.4, 0.3],\n",
       "       [6.3, 2.9, 5.6, 1.8],\n",
       "       [4.4, 3.2, 1.3, 0.2],\n",
       "       [5.4, 3.9, 1.7, 0.4],\n",
       "       [5. , 3.4, 1.6, 0.4],\n",
       "       [6.7, 3. , 5. , 1.7],\n",
       "       [5.4, 3.9, 1.3, 0.4],\n",
       "       [7.7, 2.8, 6.7, 2. ],\n",
       "       [5.6, 2.7, 4.2, 1.3],\n",
       "       [6.8, 3. , 5.5, 2.1],\n",
       "       [5.5, 3.5, 1.3, 0.2],\n",
       "       [4.8, 3.4, 1.9, 0.2],\n",
       "       [5.4, 3.4, 1.7, 0.2],\n",
       "       [7.7, 3.8, 6.7, 2.2],\n",
       "       [6.9, 3.1, 5.4, 2.1],\n",
       "       [5.6, 2.5, 3.9, 1.1],\n",
       "       [5.1, 3.4, 1.5, 0.2],\n",
       "       [5.1, 3.8, 1.6, 0.2],\n",
       "       [6.1, 2.9, 4.7, 1.4],\n",
       "       [5.8, 4. , 1.2, 0.2],\n",
       "       [5. , 2. , 3.5, 1. ],\n",
       "       [6.4, 3.2, 4.5, 1.5],\n",
       "       [6.1, 3. , 4.6, 1.4],\n",
       "       [5.9, 3.2, 4.8, 1.8],\n",
       "       [6. , 2.2, 4. , 1. ],\n",
       "       [7.4, 2.8, 6.1, 1.9]])"
      ]
     },
     "execution_count": 39,
     "metadata": {},
     "output_type": "execute_result"
    }
   ],
   "source": [
    "X_train"
   ]
  },
  {
   "cell_type": "markdown",
   "metadata": {},
   "source": [
    "# 数值型特征无量纲化"
   ]
  },
  {
   "cell_type": "markdown",
   "metadata": {},
   "source": [
    "## 1. 数据标准化"
   ]
  },
  {
   "cell_type": "code",
   "execution_count": 40,
   "metadata": {},
   "outputs": [
    {
     "data": {
      "text/plain": [
       "array([[-0.90616043,  0.93246262, -1.30856471, -1.28788802],\n",
       "       [-1.15301457, -0.19551636, -1.30856471, -1.28788802],\n",
       "       [-0.16559799, -0.64670795,  0.22203084,  0.17260355],\n",
       "       [ 0.45153738,  0.70686683,  0.95898425,  1.50032315],\n",
       "       [-0.90616043, -1.32349533, -0.40154513, -0.09294037],\n",
       "       [ 1.43895396,  0.25567524,  0.56216318,  0.30537551],\n",
       "       [ 0.3281103 , -1.09789954,  1.0723617 ,  0.30537551],\n",
       "       [ 2.1795164 , -0.19551636,  1.63924894,  1.23477923],\n",
       "       [-0.78273335,  2.2860374 , -1.25187599, -1.42065998],\n",
       "       [ 0.45153738, -2.00028272,  0.44878573,  0.43814747],\n",
       "       [ 1.80923518, -0.42111215,  1.46918276,  0.83646335],\n",
       "       [ 0.69839152,  0.25567524,  0.90229552,  1.50032315],\n",
       "       [ 0.20468323,  0.70686683,  0.44878573,  0.57091943],\n",
       "       [-0.78273335, -0.87230374,  0.10865339,  0.30537551],\n",
       "       [-0.53587921,  1.38365421, -1.25187599, -1.28788802],\n",
       "       [-0.65930628,  1.38365421, -1.25187599, -1.28788802],\n",
       "       [-1.0295875 ,  0.93246262, -1.19518726, -0.75680017],\n",
       "       [-1.77014994, -0.42111215, -1.30856471, -1.28788802],\n",
       "       [-0.04217092, -0.87230374,  0.10865339,  0.03983159],\n",
       "       [-0.78273335,  0.70686683, -1.30856471, -1.28788802],\n",
       "       [-1.52329579,  0.70686683, -1.30856471, -1.15511606],\n",
       "       [ 0.82181859,  0.25567524,  0.78891808,  1.10200727],\n",
       "       [-0.16559799, -0.42111215,  0.27871956,  0.17260355],\n",
       "       [ 0.94524567, -0.19551636,  0.39209701,  0.30537551],\n",
       "       [ 0.20468323, -0.42111215,  0.44878573,  0.43814747],\n",
       "       [-1.39986872,  0.25567524, -1.19518726, -1.28788802],\n",
       "       [-1.15301457,  1.15805842, -1.30856471, -1.42065998],\n",
       "       [ 1.06867274,  0.03007944,  1.0723617 ,  1.63309511],\n",
       "       [ 0.57496445, -0.87230374,  0.67554063,  0.83646335],\n",
       "       [ 0.3281103 , -0.64670795,  0.56216318,  0.03983159],\n",
       "       [ 0.45153738, -0.64670795,  0.6188519 ,  0.83646335],\n",
       "       [-0.16559799,  2.96282478, -1.25187599, -1.0223441 ],\n",
       "       [ 0.57496445, -1.32349533,  0.67554063,  0.43814747],\n",
       "       [ 0.69839152, -0.42111215,  0.33540828,  0.17260355],\n",
       "       [-0.90616043,  1.60925001, -1.02512109, -1.0223441 ],\n",
       "       [ 1.19209981, -0.64670795,  0.6188519 ,  0.30537551],\n",
       "       [-0.90616043,  0.93246262, -1.30856471, -1.15511606],\n",
       "       [-1.89357701, -0.19551636, -1.47863088, -1.42065998],\n",
       "       [ 0.08125616, -0.19551636,  0.78891808,  0.83646335],\n",
       "       [ 0.69839152, -0.64670795,  1.0723617 ,  1.23477923],\n",
       "       [-0.28902506, -0.64670795,  0.67554063,  1.10200727],\n",
       "       [-0.41245214, -1.54909113, -0.00472406, -0.22571233],\n",
       "       [ 1.31552689,  0.03007944,  0.67554063,  0.43814747],\n",
       "       [ 0.57496445,  0.70686683,  1.0723617 ,  1.63309511],\n",
       "       [ 0.82181859, -0.19551636,  1.18573914,  1.36755119],\n",
       "       [-0.16559799,  1.60925001, -1.13849854, -1.15511606],\n",
       "       [ 0.94524567, -0.42111215,  0.50547446,  0.17260355],\n",
       "       [ 1.06867274,  0.48127103,  1.12905042,  1.76586707],\n",
       "       [-1.27644165, -0.19551636, -1.30856471, -1.42065998],\n",
       "       [-1.0295875 ,  1.15805842, -1.30856471, -1.28788802],\n",
       "       [ 0.20468323, -0.19551636,  0.6188519 ,  0.83646335],\n",
       "       [-1.0295875 , -0.19551636, -1.19518726, -1.28788802],\n",
       "       [ 0.3281103 , -0.19551636,  0.67554063,  0.83646335],\n",
       "       [ 0.69839152,  0.03007944,  1.01567297,  0.83646335],\n",
       "       [-0.90616043,  1.38365421, -1.25187599, -1.0223441 ],\n",
       "       [-0.16559799, -0.19551636,  0.27871956,  0.03983159],\n",
       "       [-1.0295875 ,  0.93246262, -1.36525344, -1.15511606],\n",
       "       [-0.90616043,  1.60925001, -1.25187599, -1.15511606],\n",
       "       [-1.52329579,  0.25567524, -1.30856471, -1.28788802],\n",
       "       [-0.53587921, -0.19551636,  0.44878573,  0.43814747],\n",
       "       [ 0.82181859, -0.64670795,  0.50547446,  0.43814747],\n",
       "       [ 0.3281103 , -0.64670795,  0.16534211,  0.17260355],\n",
       "       [-1.27644165,  0.70686683, -1.19518726, -1.28788802],\n",
       "       [-0.90616043,  0.48127103, -1.13849854, -0.88957213],\n",
       "       [-0.04217092, -0.87230374,  0.78891808,  0.96923531],\n",
       "       [-0.28902506, -0.19551636,  0.22203084,  0.17260355],\n",
       "       [ 0.57496445, -0.64670795,  0.78891808,  0.43814747],\n",
       "       [ 1.06867274,  0.48127103,  1.12905042,  1.23477923],\n",
       "       [ 1.68580811, -0.19551636,  1.18573914,  0.57091943],\n",
       "       [ 1.06867274, -0.19551636,  0.8456068 ,  1.50032315],\n",
       "       [-1.15301457,  0.03007944, -1.25187599, -1.42065998],\n",
       "       [-1.15301457, -1.32349533,  0.44878573,  0.70369139],\n",
       "       [-0.16559799, -1.32349533,  0.73222935,  1.10200727],\n",
       "       [-1.15301457, -1.54909113, -0.23147896, -0.22571233],\n",
       "       [-0.41245214, -1.54909113,  0.05196466, -0.09294037],\n",
       "       [ 1.06867274, -1.32349533,  1.18573914,  0.83646335],\n",
       "       [ 0.82181859, -0.19551636,  1.01567297,  0.83646335],\n",
       "       [-0.16559799, -1.09789954, -0.11810151, -0.22571233],\n",
       "       [ 0.20468323, -2.00028272,  0.73222935,  0.43814747],\n",
       "       [ 1.06867274,  0.03007944,  0.56216318,  0.43814747],\n",
       "       [-1.15301457,  0.03007944, -1.25187599, -1.28788802],\n",
       "       [ 0.57496445, -1.32349533,  0.73222935,  0.96923531],\n",
       "       [-1.39986872,  0.25567524, -1.36525344, -1.28788802],\n",
       "       [ 0.20468323, -0.87230374,  0.78891808,  0.57091943],\n",
       "       [-0.04217092, -1.09789954,  0.16534211,  0.03983159],\n",
       "       [ 1.31552689,  0.25567524,  1.12905042,  1.50032315],\n",
       "       [-1.77014994, -0.19551636, -1.36525344, -1.28788802],\n",
       "       [ 1.56238103, -0.19551636,  1.24242787,  1.23477923],\n",
       "       [ 1.19209981,  0.25567524,  1.24242787,  1.50032315],\n",
       "       [-0.78273335,  0.93246262, -1.25187599, -1.28788802],\n",
       "       [ 2.54979762,  1.60925001,  1.52587149,  1.10200727],\n",
       "       [ 0.69839152, -0.64670795,  1.0723617 ,  1.36755119],\n",
       "       [-0.28902506, -0.42111215, -0.06141278,  0.17260355],\n",
       "       [-0.41245214,  2.51163319, -1.30856471, -1.28788802],\n",
       "       [-1.27644165, -0.19551636, -1.30856471, -1.15511606],\n",
       "       [ 0.57496445, -0.42111215,  1.0723617 ,  0.83646335],\n",
       "       [-1.77014994,  0.25567524, -1.36525344, -1.28788802],\n",
       "       [-0.53587921,  1.8348458 , -1.13849854, -1.0223441 ],\n",
       "       [-1.0295875 ,  0.70686683, -1.19518726, -1.0223441 ],\n",
       "       [ 1.06867274, -0.19551636,  0.73222935,  0.70369139],\n",
       "       [-0.53587921,  1.8348458 , -1.36525344, -1.0223441 ],\n",
       "       [ 2.30294347, -0.64670795,  1.69593766,  1.10200727],\n",
       "       [-0.28902506, -0.87230374,  0.27871956,  0.17260355],\n",
       "       [ 1.19209981, -0.19551636,  1.01567297,  1.23477923],\n",
       "       [-0.41245214,  0.93246262, -1.36525344, -1.28788802],\n",
       "       [-1.27644165,  0.70686683, -1.02512109, -1.28788802],\n",
       "       [-0.53587921,  0.70686683, -1.13849854, -1.28788802],\n",
       "       [ 2.30294347,  1.60925001,  1.69593766,  1.36755119],\n",
       "       [ 1.31552689,  0.03007944,  0.95898425,  1.23477923],\n",
       "       [-0.28902506, -1.32349533,  0.10865339, -0.09294037],\n",
       "       [-0.90616043,  0.70686683, -1.25187599, -1.28788802],\n",
       "       [-0.90616043,  1.60925001, -1.19518726, -1.28788802],\n",
       "       [ 0.3281103 , -0.42111215,  0.56216318,  0.30537551],\n",
       "       [-0.04217092,  2.0604416 , -1.42194216, -1.28788802],\n",
       "       [-1.0295875 , -2.45147431, -0.11810151, -0.22571233],\n",
       "       [ 0.69839152,  0.25567524,  0.44878573,  0.43814747],\n",
       "       [ 0.3281103 , -0.19551636,  0.50547446,  0.30537551],\n",
       "       [ 0.08125616,  0.25567524,  0.6188519 ,  0.83646335],\n",
       "       [ 0.20468323, -2.00028272,  0.16534211, -0.22571233],\n",
       "       [ 1.93266225, -0.64670795,  1.35580532,  0.96923531]])"
      ]
     },
     "execution_count": 40,
     "metadata": {},
     "output_type": "execute_result"
    }
   ],
   "source": [
    "from sklearn.preprocessing import StandardScaler\n",
    "# 标准化，返回值为标准化后的数据\n",
    "stadardScaler = StandardScaler().fit(X_train)\n",
    "standardScaler.transform(X_train)"
   ]
  },
  {
   "cell_type": "markdown",
   "metadata": {},
   "source": [
    "## 2.归一化"
   ]
  },
  {
   "cell_type": "markdown",
   "metadata": {},
   "source": [
    "### 2.1 MinMax归一化"
   ]
  },
  {
   "cell_type": "code",
   "execution_count": 41,
   "metadata": {},
   "outputs": [
    {
     "data": {
      "text/plain": [
       "array([[0.22222222, 0.625     , 0.05357143, 0.04166667],\n",
       "       [0.16666667, 0.41666667, 0.05357143, 0.04166667],\n",
       "       [0.38888889, 0.33333333, 0.53571429, 0.5       ],\n",
       "       [0.52777778, 0.58333333, 0.76785714, 0.91666667],\n",
       "       [0.22222222, 0.20833333, 0.33928571, 0.41666667],\n",
       "       [0.75      , 0.5       , 0.64285714, 0.54166667],\n",
       "       [0.5       , 0.25      , 0.80357143, 0.54166667],\n",
       "       [0.91666667, 0.41666667, 0.98214286, 0.83333333],\n",
       "       [0.25      , 0.875     , 0.07142857, 0.        ],\n",
       "       [0.52777778, 0.08333333, 0.60714286, 0.58333333],\n",
       "       [0.83333333, 0.375     , 0.92857143, 0.70833333],\n",
       "       [0.58333333, 0.5       , 0.75      , 0.91666667],\n",
       "       [0.47222222, 0.58333333, 0.60714286, 0.625     ],\n",
       "       [0.25      , 0.29166667, 0.5       , 0.54166667],\n",
       "       [0.30555556, 0.70833333, 0.07142857, 0.04166667],\n",
       "       [0.27777778, 0.70833333, 0.07142857, 0.04166667],\n",
       "       [0.19444444, 0.625     , 0.08928571, 0.20833333],\n",
       "       [0.02777778, 0.375     , 0.05357143, 0.04166667],\n",
       "       [0.41666667, 0.29166667, 0.5       , 0.45833333],\n",
       "       [0.25      , 0.58333333, 0.05357143, 0.04166667],\n",
       "       [0.08333333, 0.58333333, 0.05357143, 0.08333333],\n",
       "       [0.61111111, 0.5       , 0.71428571, 0.79166667],\n",
       "       [0.38888889, 0.375     , 0.55357143, 0.5       ],\n",
       "       [0.63888889, 0.41666667, 0.58928571, 0.54166667],\n",
       "       [0.47222222, 0.375     , 0.60714286, 0.58333333],\n",
       "       [0.11111111, 0.5       , 0.08928571, 0.04166667],\n",
       "       [0.16666667, 0.66666667, 0.05357143, 0.        ],\n",
       "       [0.66666667, 0.45833333, 0.80357143, 0.95833333],\n",
       "       [0.55555556, 0.29166667, 0.67857143, 0.70833333],\n",
       "       [0.5       , 0.33333333, 0.64285714, 0.45833333],\n",
       "       [0.52777778, 0.33333333, 0.66071429, 0.70833333],\n",
       "       [0.38888889, 1.        , 0.07142857, 0.125     ],\n",
       "       [0.55555556, 0.20833333, 0.67857143, 0.58333333],\n",
       "       [0.58333333, 0.375     , 0.57142857, 0.5       ],\n",
       "       [0.22222222, 0.75      , 0.14285714, 0.125     ],\n",
       "       [0.69444444, 0.33333333, 0.66071429, 0.54166667],\n",
       "       [0.22222222, 0.625     , 0.05357143, 0.08333333],\n",
       "       [0.        , 0.41666667, 0.        , 0.        ],\n",
       "       [0.44444444, 0.41666667, 0.71428571, 0.70833333],\n",
       "       [0.58333333, 0.33333333, 0.80357143, 0.83333333],\n",
       "       [0.36111111, 0.33333333, 0.67857143, 0.79166667],\n",
       "       [0.33333333, 0.16666667, 0.46428571, 0.375     ],\n",
       "       [0.72222222, 0.45833333, 0.67857143, 0.58333333],\n",
       "       [0.55555556, 0.58333333, 0.80357143, 0.95833333],\n",
       "       [0.61111111, 0.41666667, 0.83928571, 0.875     ],\n",
       "       [0.38888889, 0.75      , 0.10714286, 0.08333333],\n",
       "       [0.63888889, 0.375     , 0.625     , 0.5       ],\n",
       "       [0.66666667, 0.54166667, 0.82142857, 1.        ],\n",
       "       [0.13888889, 0.41666667, 0.05357143, 0.        ],\n",
       "       [0.19444444, 0.66666667, 0.05357143, 0.04166667],\n",
       "       [0.47222222, 0.41666667, 0.66071429, 0.70833333],\n",
       "       [0.19444444, 0.41666667, 0.08928571, 0.04166667],\n",
       "       [0.5       , 0.41666667, 0.67857143, 0.70833333],\n",
       "       [0.58333333, 0.45833333, 0.78571429, 0.70833333],\n",
       "       [0.22222222, 0.70833333, 0.07142857, 0.125     ],\n",
       "       [0.38888889, 0.41666667, 0.55357143, 0.45833333],\n",
       "       [0.19444444, 0.625     , 0.03571429, 0.08333333],\n",
       "       [0.22222222, 0.75      , 0.07142857, 0.08333333],\n",
       "       [0.08333333, 0.5       , 0.05357143, 0.04166667],\n",
       "       [0.30555556, 0.41666667, 0.60714286, 0.58333333],\n",
       "       [0.61111111, 0.33333333, 0.625     , 0.58333333],\n",
       "       [0.5       , 0.33333333, 0.51785714, 0.5       ],\n",
       "       [0.13888889, 0.58333333, 0.08928571, 0.04166667],\n",
       "       [0.22222222, 0.54166667, 0.10714286, 0.16666667],\n",
       "       [0.41666667, 0.29166667, 0.71428571, 0.75      ],\n",
       "       [0.36111111, 0.41666667, 0.53571429, 0.5       ],\n",
       "       [0.55555556, 0.33333333, 0.71428571, 0.58333333],\n",
       "       [0.66666667, 0.54166667, 0.82142857, 0.83333333],\n",
       "       [0.80555556, 0.41666667, 0.83928571, 0.625     ],\n",
       "       [0.66666667, 0.41666667, 0.73214286, 0.91666667],\n",
       "       [0.16666667, 0.45833333, 0.07142857, 0.        ],\n",
       "       [0.16666667, 0.20833333, 0.60714286, 0.66666667],\n",
       "       [0.38888889, 0.20833333, 0.69642857, 0.79166667],\n",
       "       [0.16666667, 0.16666667, 0.39285714, 0.375     ],\n",
       "       [0.33333333, 0.16666667, 0.48214286, 0.41666667],\n",
       "       [0.66666667, 0.20833333, 0.83928571, 0.70833333],\n",
       "       [0.61111111, 0.41666667, 0.78571429, 0.70833333],\n",
       "       [0.38888889, 0.25      , 0.42857143, 0.375     ],\n",
       "       [0.47222222, 0.08333333, 0.69642857, 0.58333333],\n",
       "       [0.66666667, 0.45833333, 0.64285714, 0.58333333],\n",
       "       [0.16666667, 0.45833333, 0.07142857, 0.04166667],\n",
       "       [0.55555556, 0.20833333, 0.69642857, 0.75      ],\n",
       "       [0.11111111, 0.5       , 0.03571429, 0.04166667],\n",
       "       [0.47222222, 0.29166667, 0.71428571, 0.625     ],\n",
       "       [0.41666667, 0.25      , 0.51785714, 0.45833333],\n",
       "       [0.72222222, 0.5       , 0.82142857, 0.91666667],\n",
       "       [0.02777778, 0.41666667, 0.03571429, 0.04166667],\n",
       "       [0.77777778, 0.41666667, 0.85714286, 0.83333333],\n",
       "       [0.69444444, 0.5       , 0.85714286, 0.91666667],\n",
       "       [0.25      , 0.625     , 0.07142857, 0.04166667],\n",
       "       [1.        , 0.75      , 0.94642857, 0.79166667],\n",
       "       [0.58333333, 0.33333333, 0.80357143, 0.875     ],\n",
       "       [0.36111111, 0.375     , 0.44642857, 0.5       ],\n",
       "       [0.33333333, 0.91666667, 0.05357143, 0.04166667],\n",
       "       [0.13888889, 0.41666667, 0.05357143, 0.08333333],\n",
       "       [0.55555556, 0.375     , 0.80357143, 0.70833333],\n",
       "       [0.02777778, 0.5       , 0.03571429, 0.04166667],\n",
       "       [0.30555556, 0.79166667, 0.10714286, 0.125     ],\n",
       "       [0.19444444, 0.58333333, 0.08928571, 0.125     ],\n",
       "       [0.66666667, 0.41666667, 0.69642857, 0.66666667],\n",
       "       [0.30555556, 0.79166667, 0.03571429, 0.125     ],\n",
       "       [0.94444444, 0.33333333, 1.        , 0.79166667],\n",
       "       [0.36111111, 0.29166667, 0.55357143, 0.5       ],\n",
       "       [0.69444444, 0.41666667, 0.78571429, 0.83333333],\n",
       "       [0.33333333, 0.625     , 0.03571429, 0.04166667],\n",
       "       [0.13888889, 0.58333333, 0.14285714, 0.04166667],\n",
       "       [0.30555556, 0.58333333, 0.10714286, 0.04166667],\n",
       "       [0.94444444, 0.75      , 1.        , 0.875     ],\n",
       "       [0.72222222, 0.45833333, 0.76785714, 0.83333333],\n",
       "       [0.36111111, 0.20833333, 0.5       , 0.41666667],\n",
       "       [0.22222222, 0.58333333, 0.07142857, 0.04166667],\n",
       "       [0.22222222, 0.75      , 0.08928571, 0.04166667],\n",
       "       [0.5       , 0.375     , 0.64285714, 0.54166667],\n",
       "       [0.41666667, 0.83333333, 0.01785714, 0.04166667],\n",
       "       [0.19444444, 0.        , 0.42857143, 0.375     ],\n",
       "       [0.58333333, 0.5       , 0.60714286, 0.58333333],\n",
       "       [0.5       , 0.41666667, 0.625     , 0.54166667],\n",
       "       [0.44444444, 0.5       , 0.66071429, 0.70833333],\n",
       "       [0.47222222, 0.08333333, 0.51785714, 0.375     ],\n",
       "       [0.86111111, 0.33333333, 0.89285714, 0.75      ]])"
      ]
     },
     "execution_count": 41,
     "metadata": {},
     "output_type": "execute_result"
    }
   ],
   "source": [
    "from sklearn.preprocessing import MinMaxScaler\n",
    "# 区间缩放，返回值为缩放到[0, 1]区间的数据\n",
    "minMaxScaler = MinMaxScaler().fit(X_train)\n",
    "minMaxScaler.transform(X_train)"
   ]
  },
  {
   "cell_type": "code",
   "execution_count": 42,
   "metadata": {},
   "outputs": [
    {
     "data": {
      "image/png": "[encoded data removed]",
      "text/plain": [
       "<Figure size 432x288 with 1 Axes>"
      ]
     },
     "metadata": {
      "needs_background": "light"
     },
     "output_type": "display_data"
    }
   ],
   "source": [
    "Z = minMaxScaler.transform(X_train).reshape(-1, 2)\n",
    "Z.shape\n",
    "plt.scatter(Z[:,0], Z[:,1])\n",
    "plt.show()"
   ]
  },
  {
   "cell_type": "markdown",
   "metadata": {},
   "source": [
    "#### 当有新数据加入时，可能导致max和min 变化，需要重新定义；对异常值的存在非常敏感"
   ]
  },
  {
   "cell_type": "markdown",
   "metadata": {},
   "source": [
    "### 2.2 MaxAbs归一化"
   ]
  },
  {
   "cell_type": "code",
   "execution_count": 43,
   "metadata": {
    "scrolled": true
   },
   "outputs": [
    {
     "data": {
      "text/plain": [
       "array([[0.64556962, 0.79545455, 0.20895522, 0.08      ],\n",
       "       [0.62025316, 0.68181818, 0.20895522, 0.08      ],\n",
       "       [0.72151899, 0.63636364, 0.6119403 , 0.52      ],\n",
       "       [0.78481013, 0.77272727, 0.80597015, 0.92      ],\n",
       "       [0.64556962, 0.56818182, 0.44776119, 0.44      ],\n",
       "       [0.88607595, 0.72727273, 0.70149254, 0.56      ],\n",
       "       [0.7721519 , 0.59090909, 0.8358209 , 0.56      ],\n",
       "       [0.96202532, 0.68181818, 0.98507463, 0.84      ],\n",
       "       [0.65822785, 0.93181818, 0.2238806 , 0.04      ],\n",
       "       [0.78481013, 0.5       , 0.67164179, 0.6       ],\n",
       "       [0.92405063, 0.65909091, 0.94029851, 0.72      ],\n",
       "       [0.81012658, 0.72727273, 0.79104478, 0.92      ],\n",
       "       [0.75949367, 0.77272727, 0.67164179, 0.64      ],\n",
       "       [0.65822785, 0.61363636, 0.58208955, 0.56      ],\n",
       "       [0.6835443 , 0.84090909, 0.2238806 , 0.08      ],\n",
       "       [0.67088608, 0.84090909, 0.2238806 , 0.08      ],\n",
       "       [0.63291139, 0.79545455, 0.23880597, 0.24      ],\n",
       "       [0.55696203, 0.65909091, 0.20895522, 0.08      ],\n",
       "       [0.73417722, 0.61363636, 0.58208955, 0.48      ],\n",
       "       [0.65822785, 0.77272727, 0.20895522, 0.08      ],\n",
       "       [0.58227848, 0.77272727, 0.20895522, 0.12      ],\n",
       "       [0.82278481, 0.72727273, 0.76119403, 0.8       ],\n",
       "       [0.72151899, 0.65909091, 0.62686567, 0.52      ],\n",
       "       [0.83544304, 0.68181818, 0.65671642, 0.56      ],\n",
       "       [0.75949367, 0.65909091, 0.67164179, 0.6       ],\n",
       "       [0.59493671, 0.72727273, 0.23880597, 0.08      ],\n",
       "       [0.62025316, 0.81818182, 0.20895522, 0.04      ],\n",
       "       [0.84810127, 0.70454545, 0.8358209 , 0.96      ],\n",
       "       [0.79746835, 0.61363636, 0.73134328, 0.72      ],\n",
       "       [0.7721519 , 0.63636364, 0.70149254, 0.48      ],\n",
       "       [0.78481013, 0.63636364, 0.71641791, 0.72      ],\n",
       "       [0.72151899, 1.        , 0.2238806 , 0.16      ],\n",
       "       [0.79746835, 0.56818182, 0.73134328, 0.6       ],\n",
       "       [0.81012658, 0.65909091, 0.64179104, 0.52      ],\n",
       "       [0.64556962, 0.86363636, 0.28358209, 0.16      ],\n",
       "       [0.86075949, 0.63636364, 0.71641791, 0.56      ],\n",
       "       [0.64556962, 0.79545455, 0.20895522, 0.12      ],\n",
       "       [0.5443038 , 0.68181818, 0.1641791 , 0.04      ],\n",
       "       [0.74683544, 0.68181818, 0.76119403, 0.72      ],\n",
       "       [0.81012658, 0.63636364, 0.8358209 , 0.84      ],\n",
       "       [0.70886076, 0.63636364, 0.73134328, 0.8       ],\n",
       "       [0.69620253, 0.54545455, 0.55223881, 0.4       ],\n",
       "       [0.87341772, 0.70454545, 0.73134328, 0.6       ],\n",
       "       [0.79746835, 0.77272727, 0.8358209 , 0.96      ],\n",
       "       [0.82278481, 0.68181818, 0.86567164, 0.88      ],\n",
       "       [0.72151899, 0.86363636, 0.25373134, 0.12      ],\n",
       "       [0.83544304, 0.65909091, 0.68656716, 0.52      ],\n",
       "       [0.84810127, 0.75      , 0.85074627, 1.        ],\n",
       "       [0.60759494, 0.68181818, 0.20895522, 0.04      ],\n",
       "       [0.63291139, 0.81818182, 0.20895522, 0.08      ],\n",
       "       [0.75949367, 0.68181818, 0.71641791, 0.72      ],\n",
       "       [0.63291139, 0.68181818, 0.23880597, 0.08      ],\n",
       "       [0.7721519 , 0.68181818, 0.73134328, 0.72      ],\n",
       "       [0.81012658, 0.70454545, 0.82089552, 0.72      ],\n",
       "       [0.64556962, 0.84090909, 0.2238806 , 0.16      ],\n",
       "       [0.72151899, 0.68181818, 0.62686567, 0.48      ],\n",
       "       [0.63291139, 0.79545455, 0.19402985, 0.12      ],\n",
       "       [0.64556962, 0.86363636, 0.2238806 , 0.12      ],\n",
       "       [0.58227848, 0.72727273, 0.20895522, 0.08      ],\n",
       "       [0.6835443 , 0.68181818, 0.67164179, 0.6       ],\n",
       "       [0.82278481, 0.63636364, 0.68656716, 0.6       ],\n",
       "       [0.7721519 , 0.63636364, 0.59701493, 0.52      ],\n",
       "       [0.60759494, 0.77272727, 0.23880597, 0.08      ],\n",
       "       [0.64556962, 0.75      , 0.25373134, 0.2       ],\n",
       "       [0.73417722, 0.61363636, 0.76119403, 0.76      ],\n",
       "       [0.70886076, 0.68181818, 0.6119403 , 0.52      ],\n",
       "       [0.79746835, 0.63636364, 0.76119403, 0.6       ],\n",
       "       [0.84810127, 0.75      , 0.85074627, 0.84      ],\n",
       "       [0.91139241, 0.68181818, 0.86567164, 0.64      ],\n",
       "       [0.84810127, 0.68181818, 0.7761194 , 0.92      ],\n",
       "       [0.62025316, 0.70454545, 0.2238806 , 0.04      ],\n",
       "       [0.62025316, 0.56818182, 0.67164179, 0.68      ],\n",
       "       [0.72151899, 0.56818182, 0.74626866, 0.8       ],\n",
       "       [0.62025316, 0.54545455, 0.49253731, 0.4       ],\n",
       "       [0.69620253, 0.54545455, 0.56716418, 0.44      ],\n",
       "       [0.84810127, 0.56818182, 0.86567164, 0.72      ],\n",
       "       [0.82278481, 0.68181818, 0.82089552, 0.72      ],\n",
       "       [0.72151899, 0.59090909, 0.52238806, 0.4       ],\n",
       "       [0.75949367, 0.5       , 0.74626866, 0.6       ],\n",
       "       [0.84810127, 0.70454545, 0.70149254, 0.6       ],\n",
       "       [0.62025316, 0.70454545, 0.2238806 , 0.08      ],\n",
       "       [0.79746835, 0.56818182, 0.74626866, 0.76      ],\n",
       "       [0.59493671, 0.72727273, 0.19402985, 0.08      ],\n",
       "       [0.75949367, 0.61363636, 0.76119403, 0.64      ],\n",
       "       [0.73417722, 0.59090909, 0.59701493, 0.48      ],\n",
       "       [0.87341772, 0.72727273, 0.85074627, 0.92      ],\n",
       "       [0.55696203, 0.68181818, 0.19402985, 0.08      ],\n",
       "       [0.89873418, 0.68181818, 0.88059701, 0.84      ],\n",
       "       [0.86075949, 0.72727273, 0.88059701, 0.92      ],\n",
       "       [0.65822785, 0.79545455, 0.2238806 , 0.08      ],\n",
       "       [1.        , 0.86363636, 0.95522388, 0.8       ],\n",
       "       [0.81012658, 0.63636364, 0.8358209 , 0.88      ],\n",
       "       [0.70886076, 0.65909091, 0.53731343, 0.52      ],\n",
       "       [0.69620253, 0.95454545, 0.20895522, 0.08      ],\n",
       "       [0.60759494, 0.68181818, 0.20895522, 0.12      ],\n",
       "       [0.79746835, 0.65909091, 0.8358209 , 0.72      ],\n",
       "       [0.55696203, 0.72727273, 0.19402985, 0.08      ],\n",
       "       [0.6835443 , 0.88636364, 0.25373134, 0.16      ],\n",
       "       [0.63291139, 0.77272727, 0.23880597, 0.16      ],\n",
       "       [0.84810127, 0.68181818, 0.74626866, 0.68      ],\n",
       "       [0.6835443 , 0.88636364, 0.19402985, 0.16      ],\n",
       "       [0.97468354, 0.63636364, 1.        , 0.8       ],\n",
       "       [0.70886076, 0.61363636, 0.62686567, 0.52      ],\n",
       "       [0.86075949, 0.68181818, 0.82089552, 0.84      ],\n",
       "       [0.69620253, 0.79545455, 0.19402985, 0.08      ],\n",
       "       [0.60759494, 0.77272727, 0.28358209, 0.08      ],\n",
       "       [0.6835443 , 0.77272727, 0.25373134, 0.08      ],\n",
       "       [0.97468354, 0.86363636, 1.        , 0.88      ],\n",
       "       [0.87341772, 0.70454545, 0.80597015, 0.84      ],\n",
       "       [0.70886076, 0.56818182, 0.58208955, 0.44      ],\n",
       "       [0.64556962, 0.77272727, 0.2238806 , 0.08      ],\n",
       "       [0.64556962, 0.86363636, 0.23880597, 0.08      ],\n",
       "       [0.7721519 , 0.65909091, 0.70149254, 0.56      ],\n",
       "       [0.73417722, 0.90909091, 0.17910448, 0.08      ],\n",
       "       [0.63291139, 0.45454545, 0.52238806, 0.4       ],\n",
       "       [0.81012658, 0.72727273, 0.67164179, 0.6       ],\n",
       "       [0.7721519 , 0.68181818, 0.68656716, 0.56      ],\n",
       "       [0.74683544, 0.72727273, 0.71641791, 0.72      ],\n",
       "       [0.75949367, 0.5       , 0.59701493, 0.4       ],\n",
       "       [0.93670886, 0.63636364, 0.91044776, 0.76      ]])"
      ]
     },
     "execution_count": 43,
     "metadata": {},
     "output_type": "execute_result"
    }
   ],
   "source": [
    "from sklearn.preprocessing import MaxAbsScaler\n",
    "maxAbsScaler = MaxAbsScaler().fit(X_train)\n",
    "maxAbsScaler.transform(X_train)"
   ]
  },
  {
   "cell_type": "code",
   "execution_count": 44,
   "metadata": {},
   "outputs": [
    {
     "data": {
      "image/png": "[encoded data removed]",
      "text/plain": [
       "<Figure size 432x288 with 1 Axes>"
      ]
     },
     "metadata": {
      "needs_background": "light"
     },
     "output_type": "display_data"
    }
   ],
   "source": [
    "Z = maxAbsScaler.transform(X_train).reshape(-1, 2)\n",
    "Z.shape\n",
    "plt.scatter(Z[:,0], Z[:,1])\n",
    "plt.show()"
   ]
  },
  {
   "cell_type": "markdown",
   "metadata": {},
   "source": [
    "#### 当有新数据加入时，可能导致max和min 变化，需要重新定义"
   ]
  },
  {
   "cell_type": "markdown",
   "metadata": {},
   "source": [
    "## 3.正态分布化(Normalization)"
   ]
  },
  {
   "cell_type": "code",
   "execution_count": 45,
   "metadata": {},
   "outputs": [
    {
     "data": {
      "text/plain": [
       "array([[0.80377277, 0.55160877, 0.22064351, 0.0315205 ],\n",
       "       [0.82813287, 0.50702013, 0.23660939, 0.03380134],\n",
       "       [0.7431482 , 0.36505526, 0.5345452 , 0.16948994],\n",
       "       [0.67467072, 0.36998072, 0.58761643, 0.25028107],\n",
       "       [0.78258054, 0.38361791, 0.4603415 , 0.16879188],\n",
       "       [0.76701103, 0.35063361, 0.51499312, 0.15340221],\n",
       "       [0.69385414, 0.29574111, 0.63698085, 0.15924521],\n",
       "       [0.70953708, 0.28008043, 0.61617694, 0.1960563 ],\n",
       "       [0.76578311, 0.60379053, 0.22089897, 0.0147266 ],\n",
       "       [0.76444238, 0.27125375, 0.55483721, 0.18494574],\n",
       "       [0.71366557, 0.28351098, 0.61590317, 0.17597233],\n",
       "       [0.69589887, 0.34794944, 0.57629125, 0.25008866],\n",
       "       [0.71524936, 0.40530797, 0.53643702, 0.19073316],\n",
       "       [0.72460233, 0.37623583, 0.54345175, 0.19508524],\n",
       "       [0.80373519, 0.55070744, 0.22325977, 0.02976797],\n",
       "       [0.79837025, 0.55735281, 0.22595384, 0.03012718],\n",
       "       [0.78889479, 0.55222635, 0.25244633, 0.09466737],\n",
       "       [0.80642366, 0.5315065 , 0.25658935, 0.03665562],\n",
       "       [0.76434981, 0.35581802, 0.51395936, 0.15814134],\n",
       "       [0.81609427, 0.5336001 , 0.21971769, 0.03138824],\n",
       "       [0.78010936, 0.57660257, 0.23742459, 0.0508767 ],\n",
       "       [0.71562645, 0.3523084 , 0.56149152, 0.22019275],\n",
       "       [0.73446047, 0.37367287, 0.5411814 , 0.16750853],\n",
       "       [0.76785726, 0.34902603, 0.51190484, 0.16287881],\n",
       "       [0.73350949, 0.35452959, 0.55013212, 0.18337737],\n",
       "       [0.79524064, 0.54144043, 0.27072022, 0.03384003],\n",
       "       [0.78523221, 0.5769053 , 0.22435206, 0.01602515],\n",
       "       [0.69997037, 0.32386689, 0.58504986, 0.25073566],\n",
       "       [0.73122464, 0.31338199, 0.56873028, 0.20892133],\n",
       "       [0.73659895, 0.33811099, 0.56754345, 0.14490471],\n",
       "       [0.72785195, 0.32870733, 0.56349829, 0.21131186],\n",
       "       [0.77381111, 0.59732787, 0.2036345 , 0.05430253],\n",
       "       [0.74143307, 0.29421947, 0.57667016, 0.17653168],\n",
       "       [0.76741698, 0.34773582, 0.51560829, 0.15588157],\n",
       "       [0.76693897, 0.57144472, 0.28572236, 0.06015208],\n",
       "       [0.76467269, 0.31486523, 0.53976896, 0.15743261],\n",
       "       [0.80327412, 0.55126656, 0.22050662, 0.04725142],\n",
       "       [0.8025126 , 0.55989251, 0.20529392, 0.01866308],\n",
       "       [0.69025916, 0.35097923, 0.5966647 , 0.21058754],\n",
       "       [0.69594002, 0.30447376, 0.60894751, 0.22835532],\n",
       "       [0.68307923, 0.34153961, 0.59769433, 0.24395687],\n",
       "       [0.77242925, 0.33706004, 0.51963422, 0.14044168],\n",
       "       [0.75519285, 0.33928954, 0.53629637, 0.16417236],\n",
       "       [0.67017484, 0.36168166, 0.59571097, 0.2553047 ],\n",
       "       [0.68619022, 0.31670318, 0.61229281, 0.232249  ],\n",
       "       [0.8068282 , 0.53788547, 0.24063297, 0.04246464],\n",
       "       [0.76301853, 0.33526572, 0.53180079, 0.15029153],\n",
       "       [0.68914871, 0.33943145, 0.58629069, 0.25714504],\n",
       "       [0.82307218, 0.51442011, 0.24006272, 0.01714734],\n",
       "       [0.790965  , 0.5694948 , 0.2214702 , 0.0316386 ],\n",
       "       [0.71066905, 0.35533453, 0.56853524, 0.21320072],\n",
       "       [0.82647451, 0.4958847 , 0.26447184, 0.03305898],\n",
       "       [0.71171214, 0.35002236, 0.57170319, 0.21001342],\n",
       "       [0.69804799, 0.338117  , 0.59988499, 0.196326  ],\n",
       "       [0.78591858, 0.57017622, 0.23115252, 0.06164067],\n",
       "       [0.73239618, 0.38547167, 0.53966034, 0.15418867],\n",
       "       [0.80033301, 0.56023311, 0.20808658, 0.04801998],\n",
       "       [0.77964883, 0.58091482, 0.22930848, 0.0458617 ],\n",
       "       [0.79594782, 0.55370283, 0.24224499, 0.03460643],\n",
       "       [0.69333409, 0.38518561, 0.57777841, 0.1925928 ],\n",
       "       [0.7581754 , 0.32659863, 0.5365549 , 0.17496355],\n",
       "       [0.77011854, 0.35349703, 0.50499576, 0.16412362],\n",
       "       [0.786991  , 0.55745196, 0.26233033, 0.03279129],\n",
       "       [0.80597792, 0.52151512, 0.26865931, 0.07901744],\n",
       "       [0.69052512, 0.32145135, 0.60718588, 0.22620651],\n",
       "       [0.72992443, 0.39103094, 0.53440896, 0.16944674],\n",
       "       [0.72366005, 0.32162669, 0.58582004, 0.17230001],\n",
       "       [0.69595601, 0.3427843 , 0.59208198, 0.21813547],\n",
       "       [0.73089855, 0.30454106, 0.58877939, 0.1624219 ],\n",
       "       [0.72155725, 0.32308533, 0.56001458, 0.24769876],\n",
       "       [0.81803119, 0.51752994, 0.25041771, 0.01669451],\n",
       "       [0.67054118, 0.34211284, 0.61580312, 0.23263673],\n",
       "       [0.6925518 , 0.30375079, 0.60750157, 0.24300063],\n",
       "       [0.75916547, 0.37183615, 0.51127471, 0.15493173],\n",
       "       [0.76521855, 0.33391355, 0.52869645, 0.15304371],\n",
       "       [0.71414125, 0.26647062, 0.61821183, 0.19185884],\n",
       "       [0.70610474, 0.3258945 , 0.59747324, 0.1955367 ],\n",
       "       [0.78667474, 0.35883409, 0.48304589, 0.13801311],\n",
       "       [0.72712585, 0.26661281, 0.60593821, 0.18178146],\n",
       "       [0.75457341, 0.34913098, 0.52932761, 0.16893434],\n",
       "       [0.81768942, 0.51731371, 0.25031309, 0.03337508],\n",
       "       [0.72965359, 0.28954508, 0.57909015, 0.22005426],\n",
       "       [0.80533308, 0.54831188, 0.2227517 , 0.03426949],\n",
       "       [0.70779525, 0.31850786, 0.60162596, 0.1887454 ],\n",
       "       [0.76262994, 0.34186859, 0.52595168, 0.1577855 ],\n",
       "       [0.70558934, 0.32722984, 0.58287815, 0.23519645],\n",
       "       [0.80212413, 0.54690282, 0.23699122, 0.03646019],\n",
       "       [0.71491405, 0.30207636, 0.59408351, 0.21145345],\n",
       "       [0.69193502, 0.32561648, 0.60035539, 0.23403685],\n",
       "       [0.80641965, 0.54278246, 0.23262105, 0.03101614],\n",
       "       [0.71578999, 0.34430405, 0.5798805 , 0.18121266],\n",
       "       [0.69417747, 0.30370264, 0.60740528, 0.2386235 ],\n",
       "       [0.75911707, 0.3931142 , 0.48800383, 0.17622361],\n",
       "       [0.77867447, 0.59462414, 0.19820805, 0.02831544],\n",
       "       [0.82210585, 0.51381615, 0.23978087, 0.05138162],\n",
       "       [0.69276796, 0.31889319, 0.61579374, 0.1979337 ],\n",
       "       [0.78609038, 0.57170209, 0.23225397, 0.03573138],\n",
       "       [0.78417499, 0.5663486 , 0.2468699 , 0.05808704],\n",
       "       [0.79778206, 0.5424918 , 0.25529026, 0.06382256],\n",
       "       [0.74088576, 0.33173989, 0.55289982, 0.18798594],\n",
       "       [0.79428944, 0.57365349, 0.19121783, 0.05883625],\n",
       "       [0.71486543, 0.25995106, 0.62202576, 0.18567933],\n",
       "       [0.73544284, 0.35458851, 0.55158213, 0.1707278 ],\n",
       "       [0.71718148, 0.31640359, 0.58007326, 0.22148252],\n",
       "       [0.82699754, 0.52627116, 0.19547215, 0.03007264],\n",
       "       [0.776114  , 0.54974742, 0.30721179, 0.03233808],\n",
       "       [0.8173379 , 0.51462016, 0.25731008, 0.03027177],\n",
       "       [0.69299099, 0.34199555, 0.60299216, 0.19799743],\n",
       "       [0.72415258, 0.32534391, 0.56672811, 0.22039426],\n",
       "       [0.76185188, 0.34011245, 0.53057542, 0.14964948],\n",
       "       [0.80779568, 0.53853046, 0.23758697, 0.03167826],\n",
       "       [0.77729093, 0.57915795, 0.24385598, 0.030482  ],\n",
       "       [0.73081412, 0.34743622, 0.56308629, 0.16772783],\n",
       "       [0.81120865, 0.55945424, 0.16783627, 0.02797271],\n",
       "       [0.76923077, 0.30769231, 0.53846154, 0.15384615],\n",
       "       [0.74549757, 0.37274878, 0.52417798, 0.17472599],\n",
       "       [0.73260391, 0.36029701, 0.55245541, 0.1681386 ],\n",
       "       [0.6985796 , 0.37889063, 0.56833595, 0.21312598],\n",
       "       [0.78892752, 0.28927343, 0.52595168, 0.13148792],\n",
       "       [0.72766159, 0.27533141, 0.59982915, 0.18683203]])"
      ]
     },
     "execution_count": 45,
     "metadata": {},
     "output_type": "execute_result"
    }
   ],
   "source": [
    "from sklearn.preprocessing import Normalizer\n",
    "# 归一化，返回值为归一化后的数据\n",
    "normalizer = Normalizer(norm='l2').fit(X_train)\n",
    "normalizer.transform(X_train)"
   ]
  },
  {
   "cell_type": "code",
   "execution_count": 46,
   "metadata": {},
   "outputs": [
    {
     "data": {
      "image/png": "[encoded data removed]",
      "text/plain": [
       "<Figure size 432x288 with 1 Axes>"
      ]
     },
     "metadata": {
      "needs_background": "light"
     },
     "output_type": "display_data"
    }
   ],
   "source": [
    "Z = normalizer.transform(X_train).reshape(-1, 2)\n",
    "Z.shape\n",
    "plt.scatter(Z[:,0], Z[:,1])\n",
    "plt.show()"
   ]
  },
  {
   "cell_type": "markdown",
   "metadata": {},
   "source": [
    "## 3.数值型特征分箱(数据离散化)"
   ]
  },
  {
   "cell_type": "markdown",
   "metadata": {},
   "source": [
    "### 3.1 无监督分箱"
   ]
  },
  {
   "cell_type": "markdown",
   "metadata": {},
   "source": [
    "#### ①自定义分箱"
   ]
  },
  {
   "cell_type": "markdown",
   "metadata": {},
   "source": [
    "#### ②等距分箱\n",
    "- 受到异常值影响比较大"
   ]
  },
  {
   "cell_type": "code",
   "execution_count": 47,
   "metadata": {
    "scrolled": false
   },
   "outputs": [
    {
     "data": {
      "text/html": [
       "<div>\n",
       "<style scoped>\n",
       "    .dataframe tbody tr th:only-of-type {\n",
       "        vertical-align: middle;\n",
       "    }\n",
       "\n",
       "    .dataframe tbody tr th {\n",
       "        vertical-align: top;\n",
       "    }\n",
       "\n",
       "    .dataframe thead th {\n",
       "        text-align: right;\n",
       "    }\n",
       "</style>\n",
       "<table border=\"1\" class=\"dataframe\">\n",
       "  <thead>\n",
       "    <tr style=\"text-align: right;\">\n",
       "      <th></th>\n",
       "      <th>age</th>\n",
       "      <th>Y</th>\n",
       "      <th>age_bin_2</th>\n",
       "    </tr>\n",
       "  </thead>\n",
       "  <tbody>\n",
       "    <tr>\n",
       "      <td>0</td>\n",
       "      <td>22</td>\n",
       "      <td>1</td>\n",
       "      <td>(12.947, 30.667]</td>\n",
       "    </tr>\n",
       "    <tr>\n",
       "      <td>1</td>\n",
       "      <td>13</td>\n",
       "      <td>1</td>\n",
       "      <td>(12.947, 30.667]</td>\n",
       "    </tr>\n",
       "    <tr>\n",
       "      <td>2</td>\n",
       "      <td>33</td>\n",
       "      <td>1</td>\n",
       "      <td>(30.667, 48.333]</td>\n",
       "    </tr>\n",
       "    <tr>\n",
       "      <td>3</td>\n",
       "      <td>52</td>\n",
       "      <td>0</td>\n",
       "      <td>(48.333, 66.0]</td>\n",
       "    </tr>\n",
       "    <tr>\n",
       "      <td>4</td>\n",
       "      <td>16</td>\n",
       "      <td>0</td>\n",
       "      <td>(12.947, 30.667]</td>\n",
       "    </tr>\n",
       "    <tr>\n",
       "      <td>5</td>\n",
       "      <td>42</td>\n",
       "      <td>1</td>\n",
       "      <td>(30.667, 48.333]</td>\n",
       "    </tr>\n",
       "    <tr>\n",
       "      <td>6</td>\n",
       "      <td>53</td>\n",
       "      <td>1</td>\n",
       "      <td>(48.333, 66.0]</td>\n",
       "    </tr>\n",
       "    <tr>\n",
       "      <td>7</td>\n",
       "      <td>39</td>\n",
       "      <td>1</td>\n",
       "      <td>(30.667, 48.333]</td>\n",
       "    </tr>\n",
       "    <tr>\n",
       "      <td>8</td>\n",
       "      <td>26</td>\n",
       "      <td>0</td>\n",
       "      <td>(12.947, 30.667]</td>\n",
       "    </tr>\n",
       "    <tr>\n",
       "      <td>9</td>\n",
       "      <td>66</td>\n",
       "      <td>0</td>\n",
       "      <td>(48.333, 66.0]</td>\n",
       "    </tr>\n",
       "  </tbody>\n",
       "</table>\n",
       "</div>"
      ],
      "text/plain": [
       "   age  Y         age_bin_2\n",
       "0   22  1  (12.947, 30.667]\n",
       "1   13  1  (12.947, 30.667]\n",
       "2   33  1  (30.667, 48.333]\n",
       "3   52  0    (48.333, 66.0]\n",
       "4   16  0  (12.947, 30.667]\n",
       "5   42  1  (30.667, 48.333]\n",
       "6   53  1    (48.333, 66.0]\n",
       "7   39  1  (30.667, 48.333]\n",
       "8   26  0  (12.947, 30.667]\n",
       "9   66  0    (48.333, 66.0]"
      ]
     },
     "metadata": {},
     "output_type": "display_data"
    }
   ],
   "source": [
    "import pandas as pd\n",
    "df = pd.DataFrame([[22,1],[13,1],[33,1],[52,0],[16,0],[42,1],[53,1],[39,1],[26,0],[66,0]],columns=['age','Y'])\n",
    "df['age_bin_2'] = pd.cut(df['age'], 3)  # 新增一列存储等距划分的分箱特征\n",
    "display(df)"
   ]
  },
  {
   "cell_type": "markdown",
   "metadata": {},
   "source": [
    "#### ③等频分箱"
   ]
  },
  {
   "cell_type": "code",
   "execution_count": 48,
   "metadata": {},
   "outputs": [
    {
     "data": {
      "text/html": [
       "<div>\n",
       "<style scoped>\n",
       "    .dataframe tbody tr th:only-of-type {\n",
       "        vertical-align: middle;\n",
       "    }\n",
       "\n",
       "    .dataframe tbody tr th {\n",
       "        vertical-align: top;\n",
       "    }\n",
       "\n",
       "    .dataframe thead th {\n",
       "        text-align: right;\n",
       "    }\n",
       "</style>\n",
       "<table border=\"1\" class=\"dataframe\">\n",
       "  <thead>\n",
       "    <tr style=\"text-align: right;\">\n",
       "      <th></th>\n",
       "      <th>age</th>\n",
       "      <th>Y</th>\n",
       "      <th>age_bin_2</th>\n",
       "    </tr>\n",
       "  </thead>\n",
       "  <tbody>\n",
       "    <tr>\n",
       "      <td>0</td>\n",
       "      <td>22</td>\n",
       "      <td>1</td>\n",
       "      <td>(12.999, 26.0]</td>\n",
       "    </tr>\n",
       "    <tr>\n",
       "      <td>1</td>\n",
       "      <td>13</td>\n",
       "      <td>1</td>\n",
       "      <td>(12.999, 26.0]</td>\n",
       "    </tr>\n",
       "    <tr>\n",
       "      <td>2</td>\n",
       "      <td>33</td>\n",
       "      <td>1</td>\n",
       "      <td>(26.0, 42.0]</td>\n",
       "    </tr>\n",
       "    <tr>\n",
       "      <td>3</td>\n",
       "      <td>52</td>\n",
       "      <td>0</td>\n",
       "      <td>(42.0, 66.0]</td>\n",
       "    </tr>\n",
       "    <tr>\n",
       "      <td>4</td>\n",
       "      <td>16</td>\n",
       "      <td>0</td>\n",
       "      <td>(12.999, 26.0]</td>\n",
       "    </tr>\n",
       "    <tr>\n",
       "      <td>5</td>\n",
       "      <td>42</td>\n",
       "      <td>1</td>\n",
       "      <td>(26.0, 42.0]</td>\n",
       "    </tr>\n",
       "    <tr>\n",
       "      <td>6</td>\n",
       "      <td>53</td>\n",
       "      <td>1</td>\n",
       "      <td>(42.0, 66.0]</td>\n",
       "    </tr>\n",
       "    <tr>\n",
       "      <td>7</td>\n",
       "      <td>39</td>\n",
       "      <td>1</td>\n",
       "      <td>(26.0, 42.0]</td>\n",
       "    </tr>\n",
       "    <tr>\n",
       "      <td>8</td>\n",
       "      <td>26</td>\n",
       "      <td>0</td>\n",
       "      <td>(12.999, 26.0]</td>\n",
       "    </tr>\n",
       "    <tr>\n",
       "      <td>9</td>\n",
       "      <td>66</td>\n",
       "      <td>0</td>\n",
       "      <td>(42.0, 66.0]</td>\n",
       "    </tr>\n",
       "  </tbody>\n",
       "</table>\n",
       "</div>"
      ],
      "text/plain": [
       "   age  Y       age_bin_2\n",
       "0   22  1  (12.999, 26.0]\n",
       "1   13  1  (12.999, 26.0]\n",
       "2   33  1    (26.0, 42.0]\n",
       "3   52  0    (42.0, 66.0]\n",
       "4   16  0  (12.999, 26.0]\n",
       "5   42  1    (26.0, 42.0]\n",
       "6   53  1    (42.0, 66.0]\n",
       "7   39  1    (26.0, 42.0]\n",
       "8   26  0  (12.999, 26.0]\n",
       "9   66  0    (42.0, 66.0]"
      ]
     },
     "metadata": {},
     "output_type": "display_data"
    }
   ],
   "source": [
    "import pandas as pd\n",
    "df = pd.DataFrame([[22,1],[13,1],[33,1],[52,0],[16,0],[42,1],[53,1],[39,1],[26,0],[66,0]],columns=['age','Y'])\n",
    "df['age_bin_2'] = pd.qcut(df['age'], 3)  # 新增一列存储等距划分的分箱特征\n",
    "display(df)"
   ]
  },
  {
   "cell_type": "markdown",
   "metadata": {},
   "source": [
    "#### ④聚类分箱"
   ]
  },
  {
   "cell_type": "code",
   "execution_count": 55,
   "metadata": {},
   "outputs": [
    {
     "ename": "NameError",
     "evalue": "name 'data' is not defined",
     "output_type": "error",
     "traceback": [
      "\u001b[1;31m---------------------------------------------------------------------------\u001b[0m",
      "\u001b[1;31mNameError\u001b[0m                                 Traceback (most recent call last)",
      "\u001b[1;32m<ipython-input-55-14e1b3be632c>\u001b[0m in \u001b[0;36m<module>\u001b[1;34m\u001b[0m\n\u001b[0;32m      1\u001b[0m \u001b[1;32mfrom\u001b[0m \u001b[0msklearn\u001b[0m\u001b[1;33m.\u001b[0m\u001b[0mcluster\u001b[0m \u001b[1;32mimport\u001b[0m \u001b[0mKMeans\u001b[0m\u001b[1;33m\u001b[0m\u001b[1;33m\u001b[0m\u001b[0m\n\u001b[0;32m      2\u001b[0m \u001b[0mkmodel\u001b[0m\u001b[1;33m=\u001b[0m\u001b[0mKMeans\u001b[0m\u001b[1;33m(\u001b[0m\u001b[0mn_clusters\u001b[0m\u001b[1;33m=\u001b[0m\u001b[1;36m6\u001b[0m\u001b[1;33m)\u001b[0m  \u001b[1;31m#k为聚成几类\u001b[0m\u001b[1;33m\u001b[0m\u001b[1;33m\u001b[0m\u001b[0m\n\u001b[1;32m----> 3\u001b[1;33m \u001b[0mkmodel\u001b[0m\u001b[1;33m.\u001b[0m\u001b[0mfit\u001b[0m\u001b[1;33m(\u001b[0m\u001b[0mdata\u001b[0m\u001b[1;33m.\u001b[0m\u001b[0mreshape\u001b[0m\u001b[1;33m(\u001b[0m\u001b[0mlen\u001b[0m\u001b[1;33m(\u001b[0m\u001b[0mdata\u001b[0m\u001b[1;33m)\u001b[0m\u001b[1;33m,\u001b[0m\u001b[1;36m1\u001b[0m\u001b[1;33m)\u001b[0m\u001b[1;33m)\u001b[0m \u001b[1;31m#训练模型\u001b[0m\u001b[1;33m\u001b[0m\u001b[1;33m\u001b[0m\u001b[0m\n\u001b[0m\u001b[0;32m      4\u001b[0m \u001b[0mc\u001b[0m\u001b[1;33m=\u001b[0m\u001b[0mpd\u001b[0m\u001b[1;33m.\u001b[0m\u001b[0mDataFrame\u001b[0m\u001b[1;33m(\u001b[0m\u001b[0mkmodel\u001b[0m\u001b[1;33m.\u001b[0m\u001b[0mcluster_centers_\u001b[0m\u001b[1;33m)\u001b[0m \u001b[1;31m#求聚类中心\u001b[0m\u001b[1;33m\u001b[0m\u001b[1;33m\u001b[0m\u001b[0m\n\u001b[0;32m      5\u001b[0m \u001b[0mc\u001b[0m\u001b[1;33m=\u001b[0m\u001b[0mc\u001b[0m\u001b[1;33m.\u001b[0m\u001b[0msort_values\u001b[0m\u001b[1;33m(\u001b[0m\u001b[0mby\u001b[0m\u001b[1;33m=\u001b[0m\u001b[1;34m'列索引'\u001b[0m\u001b[1;33m)\u001b[0m \u001b[1;31m#排序\u001b[0m\u001b[1;33m\u001b[0m\u001b[1;33m\u001b[0m\u001b[0m\n",
      "\u001b[1;31mNameError\u001b[0m: name 'data' is not defined"
     ]
    }
   ],
   "source": [
    "from sklearn.cluster import KMeans\n",
    "kmodel=KMeans(n_clusters=6)  #k为聚成几类\n",
    "kmodel.fit(data.reshape(len(data),1)) #训练模型\n",
    "c=pd.DataFrame(kmodel.cluster_centers_) #求聚类中心\n",
    "c=c.sort_values(by='列索引') #排序　　\n",
    "w=pd.rolling_mean(c,2).iloc[1:] #用滑动窗口求均值的方法求相邻两项求中点，作为边界点\n",
    "w=[0] +list(w[0] + [data.max()]) #把首末边界点加上\n",
    "d3 = pd.cut(data,w,labels=range(k)) #cut函数"
   ]
  },
  {
   "cell_type": "markdown",
   "metadata": {},
   "source": [
    "#### ⑤二值化(Binarization)"
   ]
  },
  {
   "cell_type": "code",
   "execution_count": 56,
   "metadata": {},
   "outputs": [
    {
     "data": {
      "text/plain": [
       "array([[1., 1., 1., 0.],\n",
       "       [1., 1., 1., 0.],\n",
       "       [1., 1., 1., 1.],\n",
       "       [1., 1., 1., 1.],\n",
       "       [1., 1., 1., 1.],\n",
       "       [1., 1., 1., 1.],\n",
       "       [1., 1., 1., 1.],\n",
       "       [1., 1., 1., 1.],\n",
       "       [1., 1., 1., 0.],\n",
       "       [1., 1., 1., 1.],\n",
       "       [1., 1., 1., 1.],\n",
       "       [1., 1., 1., 1.],\n",
       "       [1., 1., 1., 1.],\n",
       "       [1., 1., 1., 1.],\n",
       "       [1., 1., 1., 0.],\n",
       "       [1., 1., 1., 0.],\n",
       "       [1., 1., 1., 1.],\n",
       "       [1., 1., 1., 0.],\n",
       "       [1., 1., 1., 1.],\n",
       "       [1., 1., 1., 0.],\n",
       "       [1., 1., 1., 0.],\n",
       "       [1., 1., 1., 1.],\n",
       "       [1., 1., 1., 1.],\n",
       "       [1., 1., 1., 1.],\n",
       "       [1., 1., 1., 1.],\n",
       "       [1., 1., 1., 0.],\n",
       "       [1., 1., 1., 0.],\n",
       "       [1., 1., 1., 1.],\n",
       "       [1., 1., 1., 1.],\n",
       "       [1., 1., 1., 1.],\n",
       "       [1., 1., 1., 1.],\n",
       "       [1., 1., 1., 0.],\n",
       "       [1., 1., 1., 1.],\n",
       "       [1., 1., 1., 1.],\n",
       "       [1., 1., 1., 0.],\n",
       "       [1., 1., 1., 1.],\n",
       "       [1., 1., 1., 0.],\n",
       "       [1., 1., 1., 0.],\n",
       "       [1., 1., 1., 1.],\n",
       "       [1., 1., 1., 1.],\n",
       "       [1., 1., 1., 1.],\n",
       "       [1., 1., 1., 1.],\n",
       "       [1., 1., 1., 1.],\n",
       "       [1., 1., 1., 1.],\n",
       "       [1., 1., 1., 1.],\n",
       "       [1., 1., 1., 0.],\n",
       "       [1., 1., 1., 1.],\n",
       "       [1., 1., 1., 1.],\n",
       "       [1., 1., 1., 0.],\n",
       "       [1., 1., 1., 0.],\n",
       "       [1., 1., 1., 1.],\n",
       "       [1., 1., 1., 0.],\n",
       "       [1., 1., 1., 1.],\n",
       "       [1., 1., 1., 1.],\n",
       "       [1., 1., 1., 0.],\n",
       "       [1., 1., 1., 1.],\n",
       "       [1., 1., 1., 0.],\n",
       "       [1., 1., 1., 0.],\n",
       "       [1., 1., 1., 0.],\n",
       "       [1., 1., 1., 1.],\n",
       "       [1., 1., 1., 1.],\n",
       "       [1., 1., 1., 1.],\n",
       "       [1., 1., 1., 0.],\n",
       "       [1., 1., 1., 0.],\n",
       "       [1., 1., 1., 1.],\n",
       "       [1., 1., 1., 1.],\n",
       "       [1., 1., 1., 1.],\n",
       "       [1., 1., 1., 1.],\n",
       "       [1., 1., 1., 1.],\n",
       "       [1., 1., 1., 1.],\n",
       "       [1., 1., 1., 0.],\n",
       "       [1., 1., 1., 1.],\n",
       "       [1., 1., 1., 1.],\n",
       "       [1., 1., 1., 1.],\n",
       "       [1., 1., 1., 1.],\n",
       "       [1., 1., 1., 1.],\n",
       "       [1., 1., 1., 1.],\n",
       "       [1., 1., 1., 1.],\n",
       "       [1., 1., 1., 1.],\n",
       "       [1., 1., 1., 1.],\n",
       "       [1., 1., 1., 0.],\n",
       "       [1., 1., 1., 1.],\n",
       "       [1., 1., 1., 0.],\n",
       "       [1., 1., 1., 1.],\n",
       "       [1., 1., 1., 1.],\n",
       "       [1., 1., 1., 1.],\n",
       "       [1., 1., 1., 0.],\n",
       "       [1., 1., 1., 1.],\n",
       "       [1., 1., 1., 1.],\n",
       "       [1., 1., 1., 0.],\n",
       "       [1., 1., 1., 1.],\n",
       "       [1., 1., 1., 1.],\n",
       "       [1., 1., 1., 1.],\n",
       "       [1., 1., 1., 0.],\n",
       "       [1., 1., 1., 0.],\n",
       "       [1., 1., 1., 1.],\n",
       "       [1., 1., 1., 0.],\n",
       "       [1., 1., 1., 0.],\n",
       "       [1., 1., 1., 0.],\n",
       "       [1., 1., 1., 1.],\n",
       "       [1., 1., 1., 0.],\n",
       "       [1., 1., 1., 1.],\n",
       "       [1., 1., 1., 1.],\n",
       "       [1., 1., 1., 1.],\n",
       "       [1., 1., 1., 0.],\n",
       "       [1., 1., 1., 0.],\n",
       "       [1., 1., 1., 0.],\n",
       "       [1., 1., 1., 1.],\n",
       "       [1., 1., 1., 1.],\n",
       "       [1., 1., 1., 1.],\n",
       "       [1., 1., 1., 0.],\n",
       "       [1., 1., 1., 0.],\n",
       "       [1., 1., 1., 1.],\n",
       "       [1., 1., 1., 0.],\n",
       "       [1., 1., 1., 1.],\n",
       "       [1., 1., 1., 1.],\n",
       "       [1., 1., 1., 1.],\n",
       "       [1., 1., 1., 1.],\n",
       "       [1., 1., 1., 1.],\n",
       "       [1., 1., 1., 1.]])"
      ]
     },
     "execution_count": 56,
     "metadata": {},
     "output_type": "execute_result"
    }
   ],
   "source": [
    "from sklearn.preprocessing import Binarizer\n",
    "# Binarizer函数也可以设定一个阈值，结果数据值大于阈值的为1，小于阈值的为0\n",
    "binarizer = Binarizer(threshold=0.5).fit(X_train)\n",
    "binarizer.transform(X_train)"
   ]
  },
  {
   "cell_type": "code",
   "execution_count": null,
   "metadata": {},
   "outputs": [],
   "source": []
  },
  {
   "cell_type": "code",
   "execution_count": 2,
   "metadata": {},
   "outputs": [
    {
     "ename": "IndentationError",
     "evalue": "unindent does not match any outer indentation level (<tokenize>, line 19)",
     "output_type": "error",
     "traceback": [
      "\u001b[1;36m  File \u001b[1;32m\"<tokenize>\"\u001b[1;36m, line \u001b[1;32m19\u001b[0m\n\u001b[1;33m    if sample != None:\u001b[0m\n\u001b[1;37m    ^\u001b[0m\n\u001b[1;31mIndentationError\u001b[0m\u001b[1;31m:\u001b[0m unindent does not match any outer indentation level\n"
     ]
    }
   ],
   "source": [
    "import pandas as pd\n",
    "import numpy as np\n",
    "data = pd.read_csv('sample_data.csv', sep=\"\\t\", na_values=['', '?'])\n",
    "temp = data[['x','y']]\n",
    "\n",
    "\n",
    "# 定义一个卡方分箱（可设置参数置信度水平与箱的个数）停止条件为大于置信水平且小于bin的数目\n",
    "def ChiMerge(df, variable, flag, confidenceVal=3.841, bin=10, sample = None):  \n",
    "\t'''\n",
    "    运行前需要 import pandas as pd 和 import numpy as np\n",
    "    df:传入一个数据框仅包含一个需要卡方分箱的变量与正负样本标识（正样本为1，负样本为0）\n",
    "    variable:需要卡方分箱的变量名称（字符串）\n",
    "    flag：正负样本标识的名称（字符串）\n",
    "    confidenceVal：置信度水平（默认是不进行抽样95%）\n",
    "    bin：最多箱的数目\n",
    "    sample: 为抽样的数目（默认是不进行抽样），因为如果观测值过多运行会较慢\n",
    "    '''\t\n",
    "#进行是否抽样操作\n",
    "    if sample != None:\n",
    "        df = df.sample(n=sample)\n",
    "    else:\n",
    "        df   \n",
    "\t\t\n",
    "#进行数据格式化录入\n",
    "    total_num = df.groupby([variable])[flag].count()  # 统计需分箱变量每个值数目\n",
    "    total_num = pd.DataFrame({'total_num': total_num})  # 创建一个数据框保存之前的结果\n",
    "    positive_class = df.groupby([variable])[flag].sum()  # 统计需分箱变量每个值正样本数\n",
    "    positive_class = pd.DataFrame({'positive_class': positive_class})  # 创建一个数据框保存之前的结果\n",
    "    regroup = pd.merge(total_num, positive_class, left_index=True, right_index=True,\n",
    "                       how='inner')  # 组合total_num与positive_class\n",
    "    regroup.reset_index(inplace=True)\n",
    "    regroup['negative_class'] = regroup['total_num'] - regroup['positive_class']  # 统计需分箱变量每个值负样本数\n",
    "    regroup = regroup.drop('total_num', axis=1)\n",
    "    np_regroup = np.array(regroup)  # 把数据框转化为numpy（提高运行效率）\n",
    "    print('已完成数据读入,正在计算数据初处理')\n",
    "\n",
    "#处理连续没有正样本或负样本的区间，并进行区间的合并（以免卡方值计算报错）\n",
    "    i = 0\n",
    "    while (i <= np_regroup.shape[0] - 2):\n",
    "        if ((np_regroup[i, 1] == 0 and np_regroup[i + 1, 1] == 0) or ( np_regroup[i, 2] == 0 and np_regroup[i + 1, 2] == 0)):\n",
    "            np_regroup[i, 1] = np_regroup[i, 1] + np_regroup[i + 1, 1]  # 正样本\n",
    "            np_regroup[i, 2] = np_regroup[i, 2] + np_regroup[i + 1, 2]  # 负样本\n",
    "            np_regroup[i, 0] = np_regroup[i + 1, 0]\n",
    "            np_regroup = np.delete(np_regroup, i + 1, 0)\n",
    "            i = i - 1\n",
    "        i = i + 1\n",
    " \n",
    "#对相邻两个区间进行卡方值计算\n",
    "    chi_table = np.array([])  # 创建一个数组保存相邻两个区间的卡方值\n",
    "    for i in np.arange(np_regroup.shape[0] - 1):\n",
    "        chi = (np_regroup[i, 1] * np_regroup[i + 1, 2] - np_regroup[i, 2] * np_regroup[i + 1, 1]) ** 2 \\\n",
    "          * (np_regroup[i, 1] + np_regroup[i, 2] + np_regroup[i + 1, 1] + np_regroup[i + 1, 2]) / \\\n",
    "          ((np_regroup[i, 1] + np_regroup[i, 2]) * (np_regroup[i + 1, 1] + np_regroup[i + 1, 2]) * (\n",
    "          np_regroup[i, 1] + np_regroup[i + 1, 1]) * (np_regroup[i, 2] + np_regroup[i + 1, 2]))\n",
    "        chi_table = np.append(chi_table, chi)\n",
    "    print('已完成数据初处理，正在进行卡方分箱核心操作')\n",
    "\n",
    "#把卡方值最小的两个区间进行合并（卡方分箱核心）\n",
    "    while (1):\n",
    "        if (len(chi_table) <= (bin - 1) and min(chi_table) >= confidenceVal):\n",
    "            break\n",
    "        chi_min_index = np.argwhere(chi_table == min(chi_table))[0]  # 找出卡方值最小的位置索引\n",
    "        np_regroup[chi_min_index, 1] = np_regroup[chi_min_index, 1] + np_regroup[chi_min_index + 1, 1]\n",
    "        np_regroup[chi_min_index, 2] = np_regroup[chi_min_index, 2] + np_regroup[chi_min_index + 1, 2]\n",
    "        np_regroup[chi_min_index, 0] = np_regroup[chi_min_index + 1, 0]\n",
    "        np_regroup = np.delete(np_regroup, chi_min_index + 1, 0)\n",
    "\n",
    "        if (chi_min_index == np_regroup.shape[0] - 1):  # 最小值试最后两个区间的时候\n",
    "            # 计算合并后当前区间与前一个区间的卡方值并替换\n",
    "            chi_table[chi_min_index - 1] = (np_regroup[chi_min_index - 1, 1] * np_regroup[chi_min_index, 2] - np_regroup[chi_min_index - 1, 2] * np_regroup[chi_min_index, 1]) ** 2 \\\n",
    "                                           * (np_regroup[chi_min_index - 1, 1] + np_regroup[chi_min_index - 1, 2] + np_regroup[chi_min_index, 1] + np_regroup[chi_min_index, 2]) / \\\n",
    "                                       ((np_regroup[chi_min_index - 1, 1] + np_regroup[chi_min_index - 1, 2]) * (np_regroup[chi_min_index, 1] + np_regroup[chi_min_index, 2]) * (np_regroup[chi_min_index - 1, 1] + np_regroup[chi_min_index, 1]) * (np_regroup[chi_min_index - 1, 2] + np_regroup[chi_min_index, 2]))\n",
    "            # 删除替换前的卡方值\n",
    "            chi_table = np.delete(chi_table, chi_min_index, axis=0)\n",
    "\n",
    "        else:\n",
    "            # 计算合并后当前区间与前一个区间的卡方值并替换\n",
    "            chi_table[chi_min_index - 1] = (np_regroup[chi_min_index - 1, 1] * np_regroup[chi_min_index, 2] - np_regroup[chi_min_index - 1, 2] * np_regroup[chi_min_index, 1]) ** 2 \\\n",
    "                                       * (np_regroup[chi_min_index - 1, 1] + np_regroup[chi_min_index - 1, 2] + np_regroup[chi_min_index, 1] + np_regroup[chi_min_index, 2]) / \\\n",
    "                                       ((np_regroup[chi_min_index - 1, 1] + np_regroup[chi_min_index - 1, 2]) * (np_regroup[chi_min_index, 1] + np_regroup[chi_min_index, 2]) * (np_regroup[chi_min_index - 1, 1] + np_regroup[chi_min_index, 1]) * (np_regroup[chi_min_index - 1, 2] + np_regroup[chi_min_index, 2]))\n",
    "            # 计算合并后当前区间与后一个区间的卡方值并替换\n",
    "            chi_table[chi_min_index] = (np_regroup[chi_min_index, 1] * np_regroup[chi_min_index + 1, 2] - np_regroup[chi_min_index, 2] * np_regroup[chi_min_index + 1, 1]) ** 2 \\\n",
    "                                       * (np_regroup[chi_min_index, 1] + np_regroup[chi_min_index, 2] + np_regroup[chi_min_index + 1, 1] + np_regroup[chi_min_index + 1, 2]) / \\\n",
    "                                   ((np_regroup[chi_min_index, 1] + np_regroup[chi_min_index, 2]) * (np_regroup[chi_min_index + 1, 1] + np_regroup[chi_min_index + 1, 2]) * (np_regroup[chi_min_index, 1] + np_regroup[chi_min_index + 1, 1]) * (np_regroup[chi_min_index, 2] + np_regroup[chi_min_index + 1, 2]))\n",
    "            # 删除替换前的卡方值\n",
    "            chi_table = np.delete(chi_table, chi_min_index + 1, axis=0)\n",
    "    print('已完成卡方分箱核心操作，正在保存结果')\n",
    "\n",
    "#把结果保存成一个数据框\n",
    "    result_data = pd.DataFrame()  # 创建一个保存结果的数据框\n",
    "    result_data['variable'] = [variable] * np_regroup.shape[0]  # 结果表第一列：变量名\n",
    "    list_temp = []\n",
    "    for i in np.arange(np_regroup.shape[0]):\n",
    "        if i == 0:\n",
    "            x = '0' + ',' + str(np_regroup[i, 0])\n",
    "        elif i == np_regroup.shape[0] - 1:\n",
    "            x = str(np_regroup[i - 1, 0]) + '+'\n",
    "        else:\n",
    "            x = str(np_regroup[i - 1, 0]) + ',' + str(np_regroup[i, 0])\n",
    "        list_temp.append(x)\n",
    "    result_data['interval'] = list_temp  # 结果表第二列：区间\n",
    "    result_data['flag_0'] = np_regroup[:, 2]  # 结果表第三列：负样本数目\n",
    "    result_data['flag_1'] = np_regroup[:, 1]  # 结果表第四列：正样本数目\n",
    "\n",
    "    return result_data\n",
    "\n",
    "#调用函数参数示例\n",
    "bins = ChiMerge(temp, 'x','y', confidenceVal=3.841, bin=10,sample=None)\n",
    "bins"
   ]
  },
  {
   "cell_type": "code",
   "execution_count": null,
   "metadata": {},
   "outputs": [],
   "source": []
  }
 ],
 "metadata": {
  "kernelspec": {
   "display_name": "Python 3",
   "language": "python",
   "name": "python3"
  },
  "language_info": {
   "codemirror_mode": {
    "name": "ipython",
    "version": 3
   },
   "file_extension": ".py",
   "mimetype": "text/x-python",
   "name": "python",
   "nbconvert_exporter": "python",
   "pygments_lexer": "ipython3",
   "version": "3.7.4"
  }
 },
 "nbformat": 4,
 "nbformat_minor": 2
}
