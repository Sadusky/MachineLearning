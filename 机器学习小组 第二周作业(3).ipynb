{
 "cells": [
  {
   "cell_type": "markdown",
   "metadata": {},
   "source": [
    "# 在衡量机器学习的精准率（查准率）、召回率（查全率）等指标中，\n",
    "# 把握原则：视场景而定"
   ]
  },
  {
   "cell_type": "markdown",
   "metadata": {},
   "source": [
    "## 1. F1 Score二者兼顾"
   ]
  },
  {
   "cell_type": "markdown",
   "metadata": {},
   "source": [
    "### F1 Score是精准率和召回率的调和平均值"
   ]
  },
  {
   "attachments": {
    "F1%20Score.PNG": {
     "image/png": "[encoded data removed]"
    }
   },
   "cell_type": "markdown",
   "metadata": {},
   "source": [
    "![F1%20Score.PNG](attachment:F1%20Score.PNG)"
   ]
  },
  {
   "cell_type": "code",
   "execution_count": 1,
   "metadata": {},
   "outputs": [],
   "source": [
    "import numpy as np\n",
    "def f1_score(precision, recall):\n",
    "    try:\n",
    "        return 2 * precision * recall / (precision + recall)\n",
    "    except:\n",
    "        return 0.0"
   ]
  },
  {
   "cell_type": "code",
   "execution_count": 2,
   "metadata": {},
   "outputs": [
    {
     "data": {
      "text/plain": [
       "0.5"
      ]
     },
     "execution_count": 2,
     "metadata": {},
     "output_type": "execute_result"
    }
   ],
   "source": [
    "precision = 0.5\n",
    "recall  = 0.5\n",
    "f1_score(precision, recall)"
   ]
  },
  {
   "cell_type": "code",
   "execution_count": 4,
   "metadata": {},
   "outputs": [
    {
     "data": {
      "text/plain": [
       "0.18000000000000002"
      ]
     },
     "execution_count": 4,
     "metadata": {},
     "output_type": "execute_result"
    }
   ],
   "source": [
    "precision = 0.9\n",
    "recall = 0.1\n",
    "f1_score(precision, recall)"
   ]
  },
  {
   "cell_type": "markdown",
   "metadata": {},
   "source": [
    "## 2. 分类阈值、TPR和FPR"
   ]
  },
  {
   "cell_type": "code",
   "execution_count": 13,
   "metadata": {},
   "outputs": [
    {
     "name": "stderr",
     "output_type": "stream",
     "text": [
      "D:\\Anaconda3\\lib\\site-packages\\sklearn\\linear_model\\logistic.py:432: FutureWarning: Default solver will be changed to 'lbfgs' in 0.22. Specify a solver to silence this warning.\n",
      "  FutureWarning)\n"
     ]
    },
    {
     "data": {
      "image/png": "[encoded data removed]",
      "text/plain": [
       "<Figure size 432x288 with 1 Axes>"
      ]
     },
     "metadata": {
      "needs_background": "light"
     },
     "output_type": "display_data"
    }
   ],
   "source": [
    "import numpy as np\n",
    "import matplotlib.pyplot as plt\n",
    "from sklearn import datasets\n",
    "from sklearn.model_selection import train_test_split\n",
    "from sklearn.linear_model import LogisticRegression\n",
    "\n",
    "digits = datasets.load_digits()\n",
    "X = digits.data\n",
    "y = digits.target.copy()\n",
    "\n",
    "# 要构造偏斜数据，将数字9对应索引的元素设置为1，0-8设置为0\n",
    "y[digits.target == 9] = 1\n",
    "y[digits.target != 9] = 0\n",
    "\n",
    "# 使用逻辑回归做一个分类\n",
    "X_train, X_test, y_train, y_test = train_test_split(X, y, random_state=666)\n",
    "\n",
    "log_reg = LogisticRegression()\n",
    "log_reg.fit(X_train, y_train)\n",
    "# 计算逻辑回归给予X_test样本的决策数据值\n",
    "# 通过decision_function可以调整精准率和召回率\n",
    "decision_scores = log_reg.decision_function(X_test)\n",
    "\n",
    "# 定义混淆矩阵的四个指标\n",
    "def TN(y_true, y_predict):\n",
    "    assert len(y_true) == len(y_predict)\n",
    "    # (y_true == 0)向量与数值按位比较，得到的是一个布尔向量\n",
    "    # 向量与向量按位与，结果还是布尔向量\n",
    "    # np.sum计算布尔向量中True的个数（True记为1， False记为0）\n",
    "    return np.sum((y_true == 0) & (y_predict == 0)) # 向量与向量按位与，结果还是向量\n",
    "def FP(y_true, y_predict):\n",
    "    assert len(y_true) == len(y_predict)\n",
    "    # (y_true == 0):向量与数值按位比较，得到的是一个布尔向量\n",
    "    # 向量与向量按位与，结果还是布尔向量\n",
    "    # np.sum 计算布尔向量中True的个数（True记为1，False记为0）\n",
    "    return np.sum((y_true == 0) & (y_predict == 1)) # 向量与向量按位与，结果还是向量\n",
    "def FN(y_true, y_predict):\n",
    "    assert len(y_true) == len(y_predict)\n",
    "    # (y_true == 0):向量与数值按位比较，得到的是一个布尔向量\n",
    "    # 向量与向量按位与，结果还是布尔向量\n",
    "    # np.sum 计算布尔向量中True的个数（True记为1， False记为0）\n",
    "    return np.sum((y_true == 1) & (y_predict == 0)) # 向量与向量按位与，结果还是向量）\n",
    "def TP(y_true, y_predict):\n",
    "    assert len(y_true) == len(y_predict)\n",
    "    # (y_true == 0):向量与数值按位比较，得到的是一个布尔向量\n",
    "    # 向量与向量按位与，结果还是布尔向量\n",
    "    # np.sum 计算布尔向量中True的个数（True记为1， False记为0）\n",
    "    return np.sum((y_true == 1) & (y_predict == 1)) # 向量与向量按位与，结果还是向量\n",
    "\n",
    "# TPR\n",
    "def TPR(y_true, y_predict):\n",
    "    tp = TP(y_true, y_predict)\n",
    "    fn = FN(y_true, y_predict)\n",
    "    try:\n",
    "        return tp / (tp + fn)\n",
    "    except:\n",
    "        return 0.0\n",
    "\n",
    "# FPR\n",
    "def FPR(y_true, y_predict):\n",
    "    fp = FP(y_true, y_predict)\n",
    "    tn = TN(y_true, y_predict)\n",
    "    try:\n",
    "        return fp / (fp + tn)\n",
    "    except:\n",
    "        return 0.0\n",
    "\n",
    "fprs = []\n",
    "tprs = []\n",
    "\n",
    "# 以0.1为步长，遍历decision_sores中的最小值到最大值的所有数据点，将其作为阈值集合\n",
    "thresholds = np.arange(np.min(decision_scores), np.max(decision_scores), 0.1)\n",
    "for threshold in thresholds:\n",
    "    # decision_scores >= threshold是布尔型向量，用dtype设置为int\n",
    "    # 大于等于阈值threshold分类为1，小于为0，用这种方法得到预测值\n",
    "    y_predict = np.array(decision_scores >= threshold, dtype = int)\n",
    "#     print(y_predict)\n",
    "#     print(y_test)\n",
    "#     print(FPR(y_test, y_predict))\n",
    "    # 对于每个阈值，所得到的FPR和TPR都添加到相应的队列中\n",
    "    fprs.append(FPR(y_test, y_predict))\n",
    "    tprs.append(TPR(y_test, y_predict))\n",
    "    \n",
    "# 绘制ROC曲线，x轴是fpr值， y轴是tpr值\n",
    "plt.plot(fprs, tprs)\n",
    "plt.show()"
   ]
  },
  {
   "cell_type": "code",
   "execution_count": 14,
   "metadata": {},
   "outputs": [
    {
     "data": {
      "image/png": "[encoded data removed]",
      "text/plain": [
       "<Figure size 432x288 with 1 Axes>"
      ]
     },
     "metadata": {
      "needs_background": "light"
     },
     "output_type": "display_data"
    }
   ],
   "source": [
    "from sklearn.metrics import roc_curve\n",
    "\n",
    "fprs, tprs, thresholds = roc_curve(y_test, decision_scores)\n",
    "plt.plot(fprs, tprs)\n",
    "plt.show()"
   ]
  },
  {
   "cell_type": "code",
   "execution_count": 15,
   "metadata": {},
   "outputs": [
    {
     "data": {
      "text/plain": [
       "0.9830452674897119"
      ]
     },
     "execution_count": 15,
     "metadata": {},
     "output_type": "execute_result"
    }
   ],
   "source": [
    "from sklearn.metrics import roc_auc_score\n",
    "roc_auc_score(y_test, decision_scores)"
   ]
  }
 ],
 "metadata": {
  "kernelspec": {
   "display_name": "Python 3",
   "language": "python",
   "name": "python3"
  },
  "language_info": {
   "codemirror_mode": {
    "name": "ipython",
    "version": 3
   },
   "file_extension": ".py",
   "mimetype": "text/x-python",
   "name": "python",
   "nbconvert_exporter": "python",
   "pygments_lexer": "ipython3",
   "version": "3.7.3"
  }
 },
 "nbformat": 4,
 "nbformat_minor": 2
}
