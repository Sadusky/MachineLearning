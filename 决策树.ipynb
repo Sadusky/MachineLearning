{
 "cells": [
  {
   "cell_type": "markdown",
   "metadata": {},
   "source": [
    "### 8.1 sklearn中使用决策树"
   ]
  },
  {
   "cell_type": "code",
   "execution_count": 4,
   "metadata": {},
   "outputs": [],
   "source": [
    "%matplotlib inline"
   ]
  },
  {
   "cell_type": "code",
   "execution_count": 5,
   "metadata": {},
   "outputs": [
    {
     "data": {
      "image/png": "[encoded data removed]",
      "text/plain": [
       "<Figure size 432x288 with 1 Axes>"
      ]
     },
     "metadata": {
      "needs_background": "light"
     },
     "output_type": "display_data"
    }
   ],
   "source": [
    "import numpy as np\n",
    "import matplotlib.pyplot as plt\n",
    "from sklearn import datasets\n",
    "\n",
    "iris = datasets.load_iris()\n",
    "X = iris.data[:,2:] # iris有四个特征，这里取后两个，形成一个坐标点\n",
    "y = iris.target\n",
    "# 绘图\n",
    "plt.scatter(X[y==0,0],X[y==0,1])\n",
    "plt.scatter(X[y==1,0],X[y==1,1])\n",
    "plt.scatter(X[y==2,0],X[y==2,1])\n",
    "plt.show()"
   ]
  },
  {
   "cell_type": "code",
   "execution_count": 9,
   "metadata": {
    "scrolled": false
   },
   "outputs": [
    {
     "data": {
      "image/png": "[encoded data removed]",
      "text/plain": [
       "<Figure size 432x288 with 1 Axes>"
      ]
     },
     "metadata": {
      "needs_background": "light"
     },
     "output_type": "display_data"
    }
   ],
   "source": [
    "from sklearn.tree import DecisionTreeClassifier\n",
    "# 创建决策树对象，最大深度max_depth为2层，criterion评判标准为entropy（熵）\n",
    "dt_clt = DecisionTreeClassifier(max_depth=2,criterion='entropy')\n",
    "# 将训练数据送给模型\n",
    "dt_clt.fit(X,y)\n",
    "\n",
    "# 绘制决策边界\n",
    "def plot_decision_boundary(model, axis): # model是模型，axis是范围\n",
    "    x0, x1 = np.meshgrid(\n",
    "        np.linspace(axis[0], axis[1],int((axis[1]-axis[0])*100)).reshape(-1,1),\n",
    "        np.linspace(axis[2], axis[3],int((axis[3]-axis[2])*100)).reshape(-1,1),\n",
    "    )\n",
    "    X_new = np.c_[x0.ravel(), x1.ravel()]\n",
    "\n",
    "    y_predict = model.predict(X_new)\n",
    "    zz = y_predict.reshape(x0.shape)\n",
    "\n",
    "    from matplotlib.colors import ListedColormap\n",
    "    custom_cmap = ListedColormap(['#EF9A9A','#FFF59D','#90CAF9'])\n",
    "    \n",
    "    plt.contourf(x0, x1, zz, cmap=custom_cmap)\n",
    "\n",
    "# 数据可视化    \n",
    "plot_decision_boundary(dt_clt, axis=[0.5,7.5,0,3])\n",
    "plt.scatter(X[y==0,0],X[y==0,1])\n",
    "plt.scatter(X[y==1,0],X[y==1,1])\n",
    "plt.scatter(X[y==2,0],X[y==2,1])\n",
    "plt.show()"
   ]
  },
  {
   "cell_type": "markdown",
   "metadata": {},
   "source": [
    "### 8.2 特征选择中的相关概念"
   ]
  },
  {
   "cell_type": "code",
   "execution_count": 10,
   "metadata": {},
   "outputs": [
    {
     "data": {
      "image/png": "[encoded data removed]",
      "text/plain": [
       "<Figure size 432x288 with 1 Axes>"
      ]
     },
     "metadata": {
      "needs_background": "light"
     },
     "output_type": "display_data"
    }
   ],
   "source": [
    "import numpy as np\n",
    "import matplotlib.pyplot as plt\n",
    "\n",
    "# p可以传递数值，也可以传递向量。因此使用np.log\n",
    "def entropy(p):\n",
    "    return -p * np.log(p) - (1-p) * np.log(1-p)\n",
    "    \n",
    "# linspace生成向量x，从0到1均匀取值，绘制出x在不同值时对应的信息熵\n",
    "x = np.linspace(0.01,0.99,100)\n",
    "\n",
    "plt.plot(x,entropy(x))\n",
    "plt.show()"
   ]
  },
  {
   "cell_type": "markdown",
   "metadata": {},
   "source": [
    "### 8.3 特征选择之寻找最优划分"
   ]
  },
  {
   "cell_type": "code",
   "execution_count": 12,
   "metadata": {},
   "outputs": [
    {
     "name": "stdout",
     "output_type": "stream",
     "text": [
      "最优熵： 0\n",
      "在哪个维度熵进行划分： 0\n",
      "在哪个值上进行划分： 2.45\n"
     ]
    }
   ],
   "source": [
    "import numpy as np\n",
    "from collections import Counter\n",
    "from math import log\n",
    "\n",
    "# 每列：['年龄','有工作','有自己的房子','信贷情况','是否申请贷款']\n",
    "dataSet=np.array([[0, 0, 0, 0, 0],\n",
    "                  [0, 0, 0, 1, 0],\n",
    "                  [0, 1, 0, 1, 1],\n",
    "                  [0, 1, 1, 0, 1],\n",
    "                  [0, 0, 0, 0, 0],\n",
    "                  [1, 0, 0, 0, 0],\n",
    "                  [1, 0, 0, 1, 0],\n",
    "                  [1, 1, 1, 1, 1],\n",
    "                  [1, 0, 1, 2, 1],\n",
    "                  [1, 0, 1, 2, 1],\n",
    "                  [2, 0, 1, 2, 1],\n",
    "                  [2, 0, 1, 1, 1],\n",
    "                  [2, 1, 0, 1, 1],\n",
    "                  [2, 1, 0, 2, 1],\n",
    "                  [2, 0, 0, 0, 0]])\n",
    "featList = ['年龄','有工作','有自己的房子','信贷情况']\n",
    "\n",
    "\"\"\"\n",
    "函数说明：计算给定标签的经验熵（信息熵）\n",
    "Parameters：\n",
    "    y：使用标签y计算信息熵，，此时传递y是多维数组\n",
    "    计算信息熵需要每种类别出现的概率p，因此传入包含分类信息的标签y\n",
    "Returns：\n",
    "    entropy：经验熵\n",
    "\"\"\"\n",
    "def calEntropy(y):\n",
    "    # 计数器，统计y中所有类别出现的次数\n",
    "    # 扁平化，将嵌套的多维数组变成一维数组\n",
    "    counter = Counter(y.flatten())\n",
    "    entropy = 0\n",
    "    for num in counter.values():\n",
    "        p = num / len(y)\n",
    "        entropy += -p * log(p)\n",
    "    return entropy\n",
    "\n",
    "\"\"\"\n",
    "函数说明：根据传递进来的特征维度及值，将数据划分为2类\n",
    "Parameters：\n",
    "    X,y,featVec,value：特征向量、标签、特征维度、值\n",
    "Returns：\n",
    "    返回划分为两类的后的数据\n",
    "\"\"\"\n",
    "def split(X, y, featVec, value):\n",
    "    # 使用维度featVect上的value，将数据划分成左右两部分\n",
    "    # 得到的布尔向量，传入array中做索引，即可找出满足条件的相应数据（布尔屏蔽）\n",
    "    index_a = (X[:,featVec] <= value)\n",
    "    index_b = (X[:,featVec] > value)\n",
    "    return X[index_a], X[index_b], y[index_a], y[index_b]\n",
    "    \n",
    "\n",
    "\"\"\"\n",
    "函数说明：寻找最优划分\n",
    "Parameters：\n",
    "    X,y：特征向量、标签\n",
    "Returns：\n",
    "    返回最优熵，以及在哪个维度、哪个值进行划分\n",
    "\"\"\"\n",
    "def try_split(X, y):\n",
    "    # 搞一个熵的初始值：正无穷\n",
    "    best_entropy = float('inf')\n",
    "    best_featVec = -1    # 特征向量\n",
    "    best_value = -1\n",
    "    # 遍历每一个特征维度（列）\n",
    "    for featVec in range(X.shape[1]):\n",
    "        # 然后需要找到每个特征维度上的划分点。\n",
    "        # 找出该维度上的每个两个样本点的中间值，作为候选划分点。\n",
    "        # 为了方便寻找候选划分点，可以对该维度上的数值进行排序，\n",
    "        # argsort函数返回的是数组值从小到大的索引值（不打乱原来的顺序）\n",
    "        sort_index = np.argsort(X[:,featVec])        \n",
    "        for i in range(1, len(X)):\n",
    "            if X[sort_index[i-1], featVec] != X[sort_index[i], featVec]:\n",
    "                value = (X[sort_index[i-1], featVec] + X[sort_index[i], featVec]) / 2\n",
    "                X_l, X_r, y_l, y_r = split(X, y, featVec, value)\n",
    "                # 要求最优划分，需要看在此划分下得到的两个分类数据集的熵之和是否是最小的\n",
    "                entropy = calEntropy(y_l) + calEntropy(y_r)\n",
    "                if entropy < best_entropy:\n",
    "                    best_entropy, best_featVec, best_value = entropy, featVec, value\n",
    "    return best_entropy, best_featVec, best_value      \n",
    "    \n",
    "best_entropy, best_featVec, best_value = try_split(X, y)\n",
    "print(\"最优熵：\", best_featVec)\n",
    "print(\"在哪个维度熵进行划分：\", best_featVec)\n",
    "print(\"在哪个值上进行划分：\", best_value)"
   ]
  },
  {
   "cell_type": "code",
   "execution_count": 13,
   "metadata": {},
   "outputs": [
    {
     "name": "stdout",
     "output_type": "stream",
     "text": [
      "第0个特征的增益为0.083\n",
      "第1个特征的增益为0.324\n",
      "第2个特征的增益为0.420\n",
      "第3个特征的增益为0.363\n",
      "最佳的划分为第2个特征，是”有自己的房子“，信息增益为0.420\n"
     ]
    },
    {
     "data": {
      "text/plain": [
       "2"
      ]
     },
     "execution_count": 13,
     "metadata": {},
     "output_type": "execute_result"
    }
   ],
   "source": [
    "import numpy as np\n",
    "from collections import Counter\n",
    "from math import log\n",
    "\n",
    "# 每列：['年龄','有工作','有自己的房子','信贷情况','是否申请贷款']，其中'是否申请贷款'是label\n",
    "dataSet=np.array([[0, 0, 0, 0, 0],\n",
    "                  [0, 0, 0, 1, 0],\n",
    "                  [0, 1, 0, 1, 1],\n",
    "                  [0, 1, 1, 0, 1],\n",
    "                  [0, 0, 0, 0, 0],\n",
    "                  [1, 0, 0, 0, 0],\n",
    "                  [1, 0, 0, 1, 0],\n",
    "                  [1, 1, 1, 1, 1],\n",
    "                  [1, 0, 1, 2, 1],\n",
    "                  [1, 0, 1, 2, 1],\n",
    "                  [2, 0, 1, 2, 1],\n",
    "                  [2, 0, 1, 1, 1],\n",
    "                  [2, 1, 0, 1, 1],\n",
    "                  [2, 1, 0, 2, 1],\n",
    "                  [2, 0, 0, 0, 0]])\n",
    "X = dataSet[:,:4]\n",
    "y = dataSet[:,-1:]\n",
    "strs = ['年龄','有工作','有自己的房子','信贷情况','是否申请贷款']\n",
    "\n",
    "\n",
    "\"\"\"\n",
    "函数说明：计算经验熵\n",
    "Parameters：\n",
    "    dataSet：样本数据集D\n",
    "Returns：\n",
    "    entory：经验熵\n",
    "\"\"\"\n",
    "def calEntropy(dataSet):\n",
    "    #返回数据集行数\n",
    "    numEntries=len(dataSet)\n",
    "    #保存每个标签（label）出现次数的字典：<label:出现次数>\n",
    "    labelCounts={}\n",
    "    #对每组特征向量进行统计\n",
    "    for featVec in dataSet:\n",
    "        #提取标签信息\n",
    "        currentLabel=featVec[-1]\n",
    "        #如果标签没有放入统计次数的字典，添加进去\n",
    "        if currentLabel not in labelCounts.keys():\n",
    "            labelCounts[currentLabel]=0\n",
    "        #label计数\n",
    "        labelCounts[currentLabel]+=1\n",
    "    \n",
    "    entory=0.0\n",
    "    #计算经验熵\n",
    "    for key in labelCounts:\n",
    "        #选择该标签的概率\n",
    "        prob=float(labelCounts[key])/numEntries \n",
    "        #利用公式计算\n",
    "        entory-=prob*log(prob,2)\n",
    "    return entory \n",
    "\n",
    "\n",
    "\"\"\"\n",
    "函数说明：得到当前特征条件下的小类的所有样本集合（即不包含当前特征的特征样本集）\n",
    "Parameters：\n",
    "    dataSet：样本数据集D\n",
    "    curtFeatIndex：当前用来划分数据集的特征A的位置\n",
    "    categories：特征A所有可能分类的集合\n",
    "Returns：\n",
    "    otherFeatSets：不包含当前特征的特征样本集\n",
    "\"\"\"\n",
    "def currentConditionSet(dataSet, curtFeatIndex, categroy):\n",
    "    otherFeatSets = []\n",
    "    # 对于数据集中的所有特征向量，抛去当前特征后拼接好的集合\n",
    "    for featVec in dataSet:\n",
    "        if featVec[curtFeatIndex] == categroy:\n",
    "            otherFeatSet = np.append(featVec[:curtFeatIndex],featVec[curtFeatIndex+1:])\n",
    "            otherFeatSets.append(otherFeatSet) \n",
    "    return otherFeatSets\n",
    "\n",
    "\n",
    "\"\"\"\n",
    "函数说明：在选择当前特征的条件下，计算熵，即条件熵\n",
    "Parameters：\n",
    "    dataSet：样本数据集D\n",
    "    curtFeatIndex：当前用来划分数据集的特征A的位置\n",
    "    categories：特征A所有可能分类的集合\n",
    "Returns：\n",
    "    conditionalEnt：返回条件熵\n",
    "\"\"\"\n",
    "def calConditionalEnt(dataSet, curtFeatIndex, categories):\n",
    "    conditionalEnt = 0\n",
    "    # 对于每一个分类，计算选择当前特征的条件下条件熵\n",
    "    # 比如在选择“年龄”这一特征下，共有“老中青”三个小分类\n",
    "    for categroy in categories:\n",
    "        # 得到当前特征条件下的小类的所有样本集合，即不包含当前特征的特征样本集\n",
    "        # 如得到在选择“青年”这个小类下一共有5个样本，且不包含“年龄”这一特征\n",
    "        cdtSetCategroy = currentConditionSet(dataSet, curtFeatIndex, categroy)\n",
    "        # 计算当前特征条件下的小分类，占总分类的比例\n",
    "        prob = len(cdtSetCategroy) / float(dataSet.shape[0])\n",
    "        # 累加得到条件熵\n",
    "        conditionalEnt += prob * calEntropy(cdtSetCategroy)\n",
    "    return conditionalEnt\n",
    "\n",
    "\n",
    "\"\"\"\n",
    "函数说明：计算信息增益\n",
    "Parameters：\n",
    "    baseEntropy：划分样本集合D的熵是为H(D)，即基本熵\n",
    "    dataSet：样本数据集D\n",
    "    curtFeatIndex：当前用来划分数据集的特征A的位置\n",
    "Returns：\n",
    "    infoGain：信息增益值\n",
    "\"\"\"\n",
    "def calInfoGain(baseEntropy,dataSet,curtFeatIndex):\n",
    "    \n",
    "    conditionalEnt = 0.0\n",
    "    \n",
    "    # categories是所有特征向量中当前特征的对应值的set集合（去重复）\n",
    "    # 相当于该特征一共有几种分类，如“年龄”这一特征，分为“老中青”三类\n",
    "    categories = set(dataSet[:,curtFeatIndex])\n",
    "    \n",
    "    # 计算划分后的数据子集（给定特征A的情况下，数据集D）的条件熵（经验条件熵）H(D|A)\n",
    "    conditionalEnt = calConditionalEnt(dataSet,curtFeatIndex,categories)\n",
    "    \n",
    "    # 计算信息增益：g(D,A)=H(D)−H(D|A)\n",
    "    infoGain = baseEntropy - conditionalEnt\n",
    "    \n",
    "    #打印每个特征的信息增益\n",
    "    print(\"第%d个特征的增益为%.3f\" % (curtFeatIndex, infoGain))\n",
    "    return infoGain\n",
    "\n",
    "\n",
    "\"\"\"\n",
    "函数说明：寻找最优划分\n",
    "Parameters：\n",
    "    dataSet：数据集\n",
    "Returns：\n",
    "    打印最优划分结果\n",
    "\"\"\"\n",
    "def optimalPartition(dataSet):\n",
    "    bestInfoGain = -1   # 最佳信息增益初始值\n",
    "    bestFeatVec = -1    # 最佳划分的特征向量\n",
    "    # 划分前样本集合D的熵H(D)，即基本熵\n",
    "    baseEntropy = calEntropy(dataSet)\n",
    "    \n",
    "    # 遍历每一个特征维度（列），得到基于当前特征划分的信息增益\n",
    "    for curtFeatIndex in range(dataSet.shape[1]-1):\n",
    "        \n",
    "        # 计算信息增益\n",
    "        infoGain = calInfoGain(baseEntropy, dataSet, curtFeatIndex)\n",
    "        \n",
    "        # 选取最优信息增益的划分\n",
    "        if (infoGain > bestInfoGain):\n",
    "            #更新信息增益，找到最大的信息增益\n",
    "            bestInfoGain = infoGain\n",
    "            #记录信息增益最大的特征的索引值\n",
    "            bestFeatVec = curtFeatIndex\n",
    "    \n",
    "    print(\"最佳的划分为第%d个特征，是”%s“，信息增益为%.3f\" % (bestFeatVec,featList[bestFeatVec],bestInfoGain))\n",
    "    return bestFeatVec     \n",
    "\n",
    "optimalPartition(dataSet)"
   ]
  },
  {
   "cell_type": "code",
   "execution_count": 14,
   "metadata": {},
   "outputs": [
    {
     "name": "stdout",
     "output_type": "stream",
     "text": [
      "第0个特征的增益为0.083\n",
      "第0个特征的增益率为0.032\n",
      "第1个特征的增益为0.324\n",
      "第1个特征的增益率为0.169\n",
      "第2个特征的增益为0.420\n",
      "第2个特征的增益率为0.213\n",
      "第3个特征的增益为0.363\n",
      "第3个特征的增益率为0.141\n",
      "最佳的划分为第2个特征，是”有自己的房子“，信息增益率为0.213\n"
     ]
    }
   ],
   "source": [
    "\"\"\"\n",
    "函数说明：计算惩罚参数，信息增益g(D,A)与训练数据集D关于特征A的值的熵HA(D)之比\n",
    "Parameters：\n",
    "    dataSet：样本数据集D\n",
    "    curtFeatIndex：当前用来划分数据集的特征A的位置\n",
    "    categories：特征A所有可能分类的集合\n",
    "Returns：\n",
    "    conditionalEnt：惩罚参数\n",
    "\"\"\"\n",
    "def calPenaltyPara(dataSet, curtFeatIndex, categories):\n",
    "    penaltyItem = 1\n",
    "    # 对于每一个分类，计算选择当前特征的条件下条件熵\n",
    "    # 比如在选择“年龄”这一特征下，共有“老中青”三个小分类\n",
    "    for categroy in categories:\n",
    "        # 得到当前特征条件下的小类的所有样本集合，即不包含当前特征的特征样本集\n",
    "        # 如得到在选择“青年”这个小类下一共有5个样本，且不包含“年龄”这一特征\n",
    "        cdtSetCategroy = currentConditionSet(dataSet, curtFeatIndex, categroy)\n",
    "        # 计算当前特征条件下的小分类，占总分类的比例\n",
    "        prob = len(cdtSetCategroy) / float(dataSet.shape[0])\n",
    "        # 累加得到惩罚项\n",
    "        penaltyItem += -prob * log(prob,2)\n",
    "    return penaltyItem\n",
    "\n",
    "\"\"\"\n",
    "函数说明：计算信息增益率（惩罚参数 * 信息增益）\n",
    "Parameters：\n",
    "    baseEntropy：划分样本集合D的熵是为H(D)，即基本熵\n",
    "    dataSet：样本数据集D\n",
    "    curtFeatIndex：当前用来划分数据集的特征A的位置\n",
    "Returns：\n",
    "    infoGain：信息增益值\n",
    "\"\"\"\n",
    "def calInfoGainRate(baseEntropy,dataSet,curtFeatIndex):\n",
    "    infoGainRate = 0.0\n",
    "    # 计算信息增益\n",
    "    infoGain = calInfoGain(baseEntropy,dataSet,curtFeatIndex)\n",
    "    # 得到该特征的所有分类\n",
    "    categories = set(dataSet[:,curtFeatIndex])\n",
    "    # 计算惩罚项\n",
    "    penaltyItem = calPenaltyPara(dataSet, curtFeatIndex, categories)\n",
    "    # 计算信息增益率\n",
    "    infoGainRatio = infoGain / penaltyItem\n",
    "    \n",
    "    #打印每个特征的信息增益率\n",
    "    print(\"第%d个特征的增益率为%.3f\" % (curtFeatIndex, infoGainRatio))\n",
    "    return infoGainRatio\n",
    "\n",
    "\"\"\"\n",
    "函数说明：寻找最优划分\n",
    "Parameters：\n",
    "    dataSet：数据集\n",
    "Returns：\n",
    "    打印最优划分结果\n",
    "\"\"\"\n",
    "def optimalPartition(dataSet):\n",
    "    bestInfoGainRatio = 0.0   # 最佳信息增益率初始值\n",
    "    bestFeatVec = -1    # 最佳划分的特征向量\n",
    "    # 划分前样本集合D的熵H(D)，即基本熵\n",
    "    baseEntropy = calEntropy(dataSet)\n",
    "    \n",
    "    # 遍历每一个特征维度（列），得到基于当前特征划分的信息增益\n",
    "    for curtFeatIndex in range(dataSet.shape[1]-1):\n",
    "        \n",
    "        # categories是所有特征向量中当前特征的对应值的set集合（去重复）\n",
    "        # 相当于该特征一共有几种分类，如“年龄”这一特征，分为“老中青”三类\n",
    "        #categories = set(dataSet[:,curtFeatIndex])\n",
    "        \n",
    "        # 计算信息增益率\n",
    "        infoGainRatio = calInfoGainRate(baseEntropy, dataSet, curtFeatIndex)\n",
    "        \n",
    "        # 选取最优信息增益率的划分\n",
    "        if (infoGainRatio > bestInfoGainRatio):\n",
    "            #更新信息增益率，找到最大的信息增益率\n",
    "            bestInfoGainRatio = infoGainRatio\n",
    "            #记录信息增益率最大的特征的索引值\n",
    "            bestFeatVec = curtFeatIndex\n",
    "    \n",
    "    print(\"最佳的划分为第%d个特征，是”%s“，信息增益率为%.3f\" % (bestFeatVec,strs[bestFeatVec],bestInfoGainRatio))\n",
    "    return     \n",
    "\n",
    "optimalPartition(dataSet)"
   ]
  },
  {
   "cell_type": "code",
   "execution_count": 15,
   "metadata": {},
   "outputs": [
    {
     "name": "stdout",
     "output_type": "stream",
     "text": [
      "最优基尼系数： 0.4444444444444445\n",
      "在哪个维度上进行划分： 2\n",
      "在哪个值上进行划分： 0.5\n"
     ]
    }
   ],
   "source": [
    "\"\"\"\n",
    "函数说明：计算基尼系数\n",
    "Parameters：\n",
    "    y：使用标签y计算信息熵，此时传递y是多维数组\n",
    "Returns：\n",
    "    entropy：经验熵\n",
    "\"\"\"\n",
    "def calGini(y):\n",
    "    # 计数器，统计y中所有类别出现的次数\n",
    "    # 扁平化，将嵌套的多维数组变成一维数组\n",
    "    counter = Counter(y.flatten())\n",
    "    gini = 1\n",
    "    for num in counter.values():\n",
    "        p = num / len(y)\n",
    "        gini -= p ** 2\n",
    "    return gini\n",
    "\n",
    "\n",
    "\"\"\"\n",
    "函数说明：寻找最优划分\n",
    "Parameters：\n",
    "    X,y：特征向量、标签\n",
    "Returns：\n",
    "    返回最优熵，以及在哪个维度、哪个值进行划分\n",
    "\"\"\"\n",
    "def try_split(X, y):\n",
    "    # 搞一个基尼系数的初始值：正无穷\n",
    "    bestGini = float('inf')\n",
    "    bestFeatVec = -1    # 特征向量\n",
    "    bestValue = -1\n",
    "    # 遍历每一个特征维度（列）\n",
    "    for featVec in range(X.shape[1]):\n",
    "        # 然后需要找到每个特征维度上的划分点。\n",
    "        # 找出该维度上的每个两个样本点的中间值，作为候选划分点。\n",
    "        # 为了方便寻找候选划分点，可以对该维度上的数值进行排序，\n",
    "        # argsort函数返回的是数组值从小到大的索引值（不打乱原来的顺序）\n",
    "        sort_index = np.argsort(X[:,featVec])        \n",
    "        for i in range(1, len(X)):\n",
    "            if X[sort_index[i-1], featVec] != X[sort_index[i], featVec]:\n",
    "                value = (X[sort_index[i-1], featVec] + X[sort_index[i], featVec]) / 2\n",
    "                X_l, X_r, y_l, y_r = split(X, y, featVec, value)\n",
    "                # 要求最优划分，需要看在此划分下得到的两个分类数据集的熵之和是否是最小的\n",
    "                gini = calGini(y_l) + calGini(y_r)\n",
    "                if gini < bestGini:\n",
    "                    bestGini, bestFeatVec, bestValue = gini, featVec, value\n",
    "    return bestGini, bestFeatVec, bestValue\n",
    "\n",
    "bestGini, bestFeatVec, bestValue = try_split(X, y)\n",
    "print(\"最优基尼系数：\", bestGini)\n",
    "print(\"在哪个维度上进行划分：\", bestFeatVec)\n",
    "print(\"在哪个值上进行划分：\", bestValue)"
   ]
  },
  {
   "cell_type": "markdown",
   "metadata": {},
   "source": [
    "### 8.4 构建算法之ID3、C4.5"
   ]
  },
  {
   "cell_type": "code",
   "execution_count": 16,
   "metadata": {},
   "outputs": [
    {
     "name": "stdout",
     "output_type": "stream",
     "text": [
      "第0个特征的增益为0.083\n",
      "第0个特征的增益率为0.032\n",
      "第1个特征的增益为0.324\n",
      "第1个特征的增益率为0.169\n",
      "第2个特征的增益为0.420\n",
      "第2个特征的增益率为0.213\n",
      "第3个特征的增益为0.363\n",
      "第3个特征的增益率为0.141\n",
      "最佳的划分为第2个特征，是”有自己的房子“，信息增益率为0.213\n"
     ]
    },
    {
     "ename": "TypeError",
     "evalue": "list indices must be integers or slices, not NoneType",
     "output_type": "error",
     "traceback": [
      "\u001b[1;31m---------------------------------------------------------------------------\u001b[0m",
      "\u001b[1;31mTypeError\u001b[0m                                 Traceback (most recent call last)",
      "\u001b[1;32m<ipython-input-16-ed7ef772c2ea>\u001b[0m in \u001b[0;36m<module>\u001b[1;34m\u001b[0m\n\u001b[0;32m     78\u001b[0m     \u001b[1;31m#print('featLabels',featLabels)\u001b[0m\u001b[1;33m\u001b[0m\u001b[1;33m\u001b[0m\u001b[1;33m\u001b[0m\u001b[0m\n\u001b[0;32m     79\u001b[0m     \u001b[0mbestFeatLists\u001b[0m \u001b[1;33m=\u001b[0m \u001b[1;33m[\u001b[0m\u001b[1;33m]\u001b[0m\u001b[1;33m\u001b[0m\u001b[1;33m\u001b[0m\u001b[0m\n\u001b[1;32m---> 80\u001b[1;33m     \u001b[0mmyTree\u001b[0m\u001b[1;33m=\u001b[0m\u001b[0mcreateTree\u001b[0m\u001b[1;33m(\u001b[0m\u001b[0mdataSet\u001b[0m\u001b[1;33m,\u001b[0m\u001b[0mfeatList\u001b[0m\u001b[1;33m,\u001b[0m\u001b[0mbestFeatLists\u001b[0m\u001b[1;33m)\u001b[0m\u001b[1;33m\u001b[0m\u001b[1;33m\u001b[0m\u001b[0m\n\u001b[0m\u001b[0;32m     81\u001b[0m     \u001b[0mprint\u001b[0m\u001b[1;33m(\u001b[0m\u001b[0mmyTree\u001b[0m\u001b[1;33m)\u001b[0m\u001b[1;33m\u001b[0m\u001b[1;33m\u001b[0m\u001b[0m\n",
      "\u001b[1;32m<ipython-input-16-ed7ef772c2ea>\u001b[0m in \u001b[0;36mcreateTree\u001b[1;34m(dataSet, featList, bestFeatLists)\u001b[0m\n\u001b[0;32m     48\u001b[0m     \u001b[0mbestFeatVec\u001b[0m \u001b[1;33m=\u001b[0m \u001b[0moptimalPartition\u001b[0m\u001b[1;33m(\u001b[0m\u001b[0mdataSet\u001b[0m\u001b[1;33m)\u001b[0m\u001b[1;33m\u001b[0m\u001b[1;33m\u001b[0m\u001b[0m\n\u001b[0;32m     49\u001b[0m     \u001b[1;31m# 最优特征index所对应的分类标签，作为树的根节点\u001b[0m\u001b[1;33m\u001b[0m\u001b[1;33m\u001b[0m\u001b[1;33m\u001b[0m\u001b[0m\n\u001b[1;32m---> 50\u001b[1;33m     \u001b[0mbestFeatLabel\u001b[0m\u001b[1;33m=\u001b[0m\u001b[0mfeatList\u001b[0m\u001b[1;33m[\u001b[0m\u001b[0mbestFeatVec\u001b[0m\u001b[1;33m]\u001b[0m\u001b[1;33m\u001b[0m\u001b[1;33m\u001b[0m\u001b[0m\n\u001b[0m\u001b[0;32m     51\u001b[0m     \u001b[1;31m# 存储选择的最优特征标签\u001b[0m\u001b[1;33m\u001b[0m\u001b[1;33m\u001b[0m\u001b[1;33m\u001b[0m\u001b[0m\n\u001b[0;32m     52\u001b[0m     \u001b[0mbestFeatLists\u001b[0m\u001b[1;33m.\u001b[0m\u001b[0mappend\u001b[0m\u001b[1;33m(\u001b[0m\u001b[0mbestFeatLabel\u001b[0m\u001b[1;33m)\u001b[0m\u001b[1;33m\u001b[0m\u001b[1;33m\u001b[0m\u001b[0m\n",
      "\u001b[1;31mTypeError\u001b[0m: list indices must be integers or slices, not NoneType"
     ]
    }
   ],
   "source": [
    "\"\"\"\n",
    "函数说明：数据集已经处理了所有属性，但是类标签依然不是唯一的,采用多数判决的方法决定该子节点的分类\n",
    "        即统计yList中出现次数最多的元素（类标签）\n",
    "Parameters：\n",
    "    yList：类标签列表\n",
    "Returns：\n",
    "    sortedClassCount[0][0]：出现次数最多的元素（类标签）\n",
    "\"\"\"\n",
    "def majorityCnt(yList):\n",
    "    yCount={}\n",
    "    #统计yList中每个元素出现的次数\n",
    "    for vote in yList:\n",
    "        if vote not in yCount.keys():\n",
    "            yCount[vote]=0\n",
    "        yCount[vote]+=1\n",
    "        #根据字典的值降序排列\n",
    "        sortedYCount=sorted(yCount.items(),key=operator.itemgetter(1),reverse=True)\n",
    "    return sortedYCount[0][0]\n",
    "\n",
    "\"\"\"\n",
    "函数说明：创建决策树\n",
    "\n",
    "Parameters:\n",
    "    dataSet：训练数据集\n",
    "    featList：分类属性标签\n",
    "    bestFeatLists：存储选择的最优特征标签\n",
    "Returns：\n",
    "    myTree：决策树\n",
    "\"\"\"\n",
    "def createTree(dataSet,featList,bestFeatLists):\n",
    "    # 取训练数据集最后一列，即分类标签\n",
    "    yList=[example[-1] for example in dataSet]\n",
    "    \n",
    "    # 如果类别完全相同，则停止继续划分，\n",
    "    # 即yList中所有类别都是同一数据值（该类别数值个数等于列表长度）\n",
    "    if yList.count(yList[0])==len(yList):\n",
    "        # 返回该类别数值\n",
    "        return yList[0]\n",
    "    \n",
    "    \n",
    "    # 数据集已经处理了所有属性，但是类标签依然不是唯一的，\n",
    "    # 则采用多数判决的方法决定该子节点的分类\n",
    "    # 为什么要如此判断？dataSet的列是不断减少的，dataSet某一行的长度，就是列\n",
    "    if len(dataSet[0])==1:\n",
    "        return majorityCnt(yList)\n",
    "    \n",
    "    # 选择最优划分的特征index\n",
    "    bestFeatVec = optimalPartition(dataSet)\n",
    "    # 最优特征index所对应的分类标签，作为树的根节点\n",
    "    bestFeatLabel=featList[bestFeatVec]\n",
    "    # 存储选择的最优特征标签\n",
    "    bestFeatLists.append(bestFeatLabel)\n",
    "    \n",
    "    # 将最优划分特征值作为当前（子）树的根节点，生成初始决策树（用字典表示一个树结构）\n",
    "    myTree={bestFeatLabel:{}}\n",
    "    \n",
    "    # 删除已经使用的特征标签（del删除变量，解除引用）\n",
    "    # 因为每次选择特征作为条件，dataSet会删掉这一列，形成新的子类，因此对应的featList中的值也要删掉\n",
    "    del(featList[bestFeatVec])\n",
    "    print('featList: ',featList)\n",
    "    \n",
    "    \n",
    "    # 得到训练集中所有最优特征那一列所对应的值\n",
    "    featValues=[example[bestFeatVec] for example in dataSet]\n",
    "    # 去掉重复的属性值，得到最优特征下的子类\n",
    "    categories=set(featValues)\n",
    "    \n",
    "    # 遍历最优特征列所对应的值，创建决策树\n",
    "    # 如“年龄”是最优特征，则遍历“老”“中”“青”三个子类\n",
    "    for category in categories:\n",
    "        # 根据当前数据集、最优划分的特征index以及每个分类（条件）得到（条件下的子集）\n",
    "        subDataSet = np.array(currentConditionSet(dataSet,bestFeatVec,category))\n",
    "        # 递归地调用创建决策树的方法，将递归调用的结果作为当前树节点的一个分支\n",
    "        myTree[bestFeatLabel][category]=createTree(subDataSet,featList,bestFeatLists)\n",
    "    return myTree\n",
    "\n",
    "if __name__=='__main__':\n",
    "    #print('featLabels',featLabels)\n",
    "    bestFeatLists = []\n",
    "    myTree=createTree(dataSet,featList,bestFeatLists)\n",
    "    print(myTree)"
   ]
  },
  {
   "cell_type": "markdown",
   "metadata": {},
   "source": [
    "### 8.5 剪枝与sklearn中的决策树"
   ]
  },
  {
   "cell_type": "code",
   "execution_count": 17,
   "metadata": {},
   "outputs": [
    {
     "data": {
      "image/png": "[encoded data removed]",
      "text/plain": [
       "<Figure size 432x288 with 1 Axes>"
      ]
     },
     "metadata": {
      "needs_background": "light"
     },
     "output_type": "display_data"
    }
   ],
   "source": [
    "import numpy as np\n",
    "import matplotlib.pyplot as plt\n",
    "from sklearn import datasets\n",
    "\n",
    "X,y = datasets.make_moons(noise=0.25,random_state=666)\n",
    "\n",
    "plt.scatter(X[y==0,0],X[y==0,1])\n",
    "plt.scatter(X[y==1,0],X[y==1,1])\n",
    "plt.show()"
   ]
  },
  {
   "cell_type": "code",
   "execution_count": 18,
   "metadata": {},
   "outputs": [],
   "source": [
    "def plot_decision_boundary(model, axis): # model是模型，axis是范围\n",
    "    x0, x1 = np.meshgrid(\n",
    "        np.linspace(axis[0], axis[1],int((axis[1]-axis[0])*100)).reshape(-1,1),\n",
    "        np.linspace(axis[2], axis[3],int((axis[3]-axis[2])*100)).reshape(-1,1),\n",
    "    )\n",
    "    X_new = np.c_[x0.ravel(), x1.ravel()]\n",
    "\n",
    "    y_predict = model.predict(X_new)\n",
    "    zz = y_predict.reshape(x0.shape)\n",
    "\n",
    "    from matplotlib.colors import ListedColormap\n",
    "    custom_cmap = ListedColormap(['#EF9A9A','#FFF59D','#90CAF9'])\n",
    "    \n",
    "    plt.contourf(x0, x1, zz, cmap=custom_cmap)"
   ]
  },
  {
   "cell_type": "code",
   "execution_count": 19,
   "metadata": {},
   "outputs": [
    {
     "data": {
      "image/png": "[encoded data removed]",
      "text/plain": [
       "<Figure size 432x288 with 1 Axes>"
      ]
     },
     "metadata": {
      "needs_background": "light"
     },
     "output_type": "display_data"
    }
   ],
   "source": [
    "from sklearn.tree import DecisionTreeClassifier\n",
    "\n",
    "# 如果在构建时不传参数，则默认是使用基尼系数进行特征划分\n",
    "# 不限定max_depth，则决策树会一直向下划分，直到每一个节点的基尼系数为0为止\n",
    "dt_clf1 = DecisionTreeClassifier()\n",
    "dt_clf1.fit(X,y)\n",
    "    \n",
    "plot_decision_boundary(dt_clf1, axis=[-1.5,2.5,-1.0,1.5])\n",
    "plt.scatter(X[y==0,0],X[y==0,1])\n",
    "plt.scatter(X[y==1,0],X[y==1,1])\n",
    "plt.show()"
   ]
  },
  {
   "cell_type": "code",
   "execution_count": 20,
   "metadata": {},
   "outputs": [
    {
     "data": {
      "image/png": "[encoded data removed]",
      "text/plain": [
       "<Figure size 432x288 with 1 Axes>"
      ]
     },
     "metadata": {
      "needs_background": "light"
     },
     "output_type": "display_data"
    }
   ],
   "source": [
    "dt_clf2 = DecisionTreeClassifier(max_depth=2)\n",
    "dt_clf2.fit(X,y)\n",
    "\n",
    "plot_decision_boundary(dt_clf2, axis=[-1.5,2.5,-1.0,1.5])\n",
    "plt.scatter(X[y==0,0],X[y==0,1])\n",
    "plt.scatter(X[y==1,0],X[y==1,1])\n",
    "plt.show()"
   ]
  },
  {
   "cell_type": "code",
   "execution_count": 21,
   "metadata": {},
   "outputs": [
    {
     "data": {
      "image/png": "[encoded data removed]",
      "text/plain": [
       "<Figure size 432x288 with 1 Axes>"
      ]
     },
     "metadata": {
      "needs_background": "light"
     },
     "output_type": "display_data"
    }
   ],
   "source": [
    "dt_clf3 = DecisionTreeClassifier(min_samples_split=10)\n",
    "dt_clf3.fit(X,y)\n",
    "\n",
    "plot_decision_boundary(dt_clf3, axis=[-1.5,2.5,-1.0,1.5])\n",
    "plt.scatter(X[y==0,0],X[y==0,1])\n",
    "plt.scatter(X[y==1,0],X[y==1,1])\n",
    "plt.show()"
   ]
  },
  {
   "cell_type": "code",
   "execution_count": 22,
   "metadata": {},
   "outputs": [
    {
     "data": {
      "image/png": "[encoded data removed]",
      "text/plain": [
       "<Figure size 432x288 with 1 Axes>"
      ]
     },
     "metadata": {
      "needs_background": "light"
     },
     "output_type": "display_data"
    }
   ],
   "source": [
    "dt_clf4 = DecisionTreeClassifier(min_samples_leaf=6)\n",
    "dt_clf4.fit(X,y)\n",
    "\n",
    "plot_decision_boundary(dt_clf4, axis=[-1.5,2.5,-1.0,1.5])\n",
    "plt.scatter(X[y==0,0],X[y==0,1])\n",
    "plt.scatter(X[y==1,0],X[y==1,1])\n",
    "plt.show()"
   ]
  },
  {
   "cell_type": "code",
   "execution_count": 23,
   "metadata": {},
   "outputs": [
    {
     "data": {
      "image/png": "[encoded data removed]",
      "text/plain": [
       "<Figure size 432x288 with 1 Axes>"
      ]
     },
     "metadata": {
      "needs_background": "light"
     },
     "output_type": "display_data"
    }
   ],
   "source": [
    "dt_clf5 = DecisionTreeClassifier(max_leaf_nodes=4)\n",
    "dt_clf5.fit(X,y)\n",
    "\n",
    "plot_decision_boundary(dt_clf5, axis=[-1.5,2.5,-1.0,1.5])\n",
    "plt.scatter(X[y==0,0],X[y==0,1])\n",
    "plt.scatter(X[y==1,0],X[y==1,1])\n",
    "plt.show()"
   ]
  },
  {
   "cell_type": "markdown",
   "metadata": {},
   "source": [
    "### 8.6 分类与回归树CART"
   ]
  },
  {
   "cell_type": "code",
   "execution_count": 24,
   "metadata": {},
   "outputs": [
    {
     "data": {
      "text/plain": [
       "0.592872521513275"
      ]
     },
     "execution_count": 24,
     "metadata": {},
     "output_type": "execute_result"
    }
   ],
   "source": [
    "import numpy as np\n",
    "import matplotlib.pyplot as plt\n",
    "from sklearn import datasets\n",
    "from sklearn.model_selection import train_test_split\n",
    "\n",
    "boston = datasets.load_boston()\n",
    "X = boston.data\n",
    "y = boston.target\n",
    "X_train, X_test, y_train, y_test = train_test_split(X, y, random_state=666)\n",
    "\n",
    "from sklearn.tree import DecisionTreeRegressor\n",
    "\n",
    "dt_reg = DecisionTreeRegressor()\n",
    "dt_reg.fit(X_train, y_train)\n",
    "\n",
    "dt_reg.score(X_test, y_test)"
   ]
  },
  {
   "cell_type": "code",
   "execution_count": null,
   "metadata": {},
   "outputs": [],
   "source": []
  }
 ],
 "metadata": {
  "kernelspec": {
   "display_name": "Python 3",
   "language": "python",
   "name": "python3"
  },
  "language_info": {
   "codemirror_mode": {
    "name": "ipython",
    "version": 3
   },
   "file_extension": ".py",
   "mimetype": "text/x-python",
   "name": "python",
   "nbconvert_exporter": "python",
   "pygments_lexer": "ipython3",
   "version": "3.7.4"
  }
 },
 "nbformat": 4,
 "nbformat_minor": 2
}
